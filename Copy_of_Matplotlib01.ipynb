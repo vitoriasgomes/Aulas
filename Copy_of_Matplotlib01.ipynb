{
  "nbformat": 4,
  "nbformat_minor": 0,
  "metadata": {
    "colab": {
      "name": "Copy of Matplotlib01.ipynb",
      "provenance": [],
      "private_outputs": true,
      "collapsed_sections": [],
      "include_colab_link": true
    },
    "kernelspec": {
      "name": "python3",
      "display_name": "Python 3"
    }
  },
  "cells": [
    {
      "cell_type": "markdown",
      "metadata": {
        "id": "view-in-github",
        "colab_type": "text"
      },
      "source": [
        "<a href=\"https://colab.research.google.com/github/vitoriasgomes/Aulas/blob/master/Copy_of_Matplotlib01.ipynb\" target=\"_parent\"><img src=\"https://colab.research.google.com/assets/colab-badge.svg\" alt=\"Open In Colab\"/></a>"
      ]
    },
    {
      "cell_type": "markdown",
      "metadata": {
        "id": "BhSaLKRe78lg",
        "colab_type": "text"
      },
      "source": [
        "# Matplotlib"
      ]
    },
    {
      "cell_type": "code",
      "metadata": {
        "id": "MACIh8MFwnjF",
        "colab_type": "code",
        "colab": {}
      },
      "source": [
        "import math\n",
        "\n",
        "math.pi"
      ],
      "execution_count": null,
      "outputs": []
    },
    {
      "cell_type": "code",
      "metadata": {
        "id": "08MDW5DExTJQ",
        "colab_type": "code",
        "colab": {}
      },
      "source": [
        "import math as mt\n",
        "\n",
        "mt.pi"
      ],
      "execution_count": null,
      "outputs": []
    },
    {
      "cell_type": "code",
      "metadata": {
        "id": "mF6ehvo3xt_R",
        "colab_type": "code",
        "colab": {}
      },
      "source": [
        "pi = 3\n",
        "pi"
      ],
      "execution_count": null,
      "outputs": []
    },
    {
      "cell_type": "code",
      "metadata": {
        "id": "q56FFie9xEIY",
        "colab_type": "code",
        "colab": {}
      },
      "source": [
        "from math import pi \n",
        "\n",
        "pi"
      ],
      "execution_count": null,
      "outputs": []
    },
    {
      "cell_type": "code",
      "metadata": {
        "id": "qoCCpqHvxLKN",
        "colab_type": "code",
        "colab": {}
      },
      "source": [
        "from math import pi as PI\n",
        "\n",
        "PI"
      ],
      "execution_count": null,
      "outputs": []
    },
    {
      "cell_type": "markdown",
      "metadata": {
        "id": "DBBI_PUrxfVp",
        "colab_type": "text"
      },
      "source": [
        "Pacote -> módulo -> namespace -> funções e métodos"
      ]
    },
    {
      "cell_type": "code",
      "metadata": {
        "id": "SK00sbBg3BWK",
        "colab_type": "code",
        "colab": {}
      },
      "source": [
        "import matplotlib.pyplot as plt\n",
        "from math import sin,pi"
      ],
      "execution_count": null,
      "outputs": []
    },
    {
      "cell_type": "markdown",
      "metadata": {
        "id": "2QhO5dXb8_C6",
        "colab_type": "text"
      },
      "source": [
        "\n",
        "Vamos tentar plotar o sen(x) de 0 a pi\n",
        "\n",
        "Vamos fazer uma tentativa literal de C para Python só com o que aprendemos até agora"
      ]
    },
    {
      "cell_type": "code",
      "metadata": {
        "id": "Z6T6MReS8Rz-",
        "colab_type": "code",
        "colab": {}
      },
      "source": [
        "x,y = [],[]\n",
        "for n in range(11):\n",
        "  x.append(n/10*pi)\n",
        "  y.append(sin(n/10*pi))\n",
        "  print(x[n],y[n])  "
      ],
      "execution_count": null,
      "outputs": []
    },
    {
      "cell_type": "code",
      "metadata": {
        "id": "agtfmMKR8kag",
        "colab_type": "code",
        "colab": {}
      },
      "source": [
        "plt.plot(x,y,\"-\")"
      ],
      "execution_count": null,
      "outputs": []
    },
    {
      "cell_type": "markdown",
      "metadata": {
        "id": "_nigv-nyAR5u",
        "colab_type": "text"
      },
      "source": [
        "Um pouco mais Python"
      ]
    },
    {
      "cell_type": "code",
      "metadata": {
        "id": "STOT3Dk5BNuS",
        "colab_type": "code",
        "colab": {}
      },
      "source": [
        "x = [n/10*pi for n in range(11)]\n",
        "y = [sin(x[n]) for n in range(11)]"
      ],
      "execution_count": null,
      "outputs": []
    },
    {
      "cell_type": "code",
      "metadata": {
        "id": "h5Vpv1IrBmIk",
        "colab_type": "code",
        "colab": {}
      },
      "source": [
        "plt.plot(x,y,\"-\")"
      ],
      "execution_count": null,
      "outputs": []
    },
    {
      "cell_type": "code",
      "metadata": {
        "id": "sRvVwadhEZGe",
        "colab_type": "code",
        "colab": {}
      },
      "source": [
        "y = list(map(sin, x))"
      ],
      "execution_count": null,
      "outputs": []
    },
    {
      "cell_type": "code",
      "metadata": {
        "id": "aebgczGDEr4X",
        "colab_type": "code",
        "colab": {}
      },
      "source": [
        "plt.plot(x,y,\"-\")"
      ],
      "execution_count": null,
      "outputs": []
    },
    {
      "cell_type": "markdown",
      "metadata": {
        "id": "fjUwNy15B6TH",
        "colab_type": "text"
      },
      "source": [
        "Muito mais Python"
      ]
    },
    {
      "cell_type": "code",
      "metadata": {
        "id": "Lcaf7ZDfCDJa",
        "colab_type": "code",
        "colab": {}
      },
      "source": [
        "import numpy as np\n",
        "\n",
        "x = np.linspace(0,pi,101)\n",
        "y = np.sin(x)"
      ],
      "execution_count": null,
      "outputs": []
    },
    {
      "cell_type": "code",
      "metadata": {
        "id": "b5J29MrVCg7G",
        "colab_type": "code",
        "colab": {}
      },
      "source": [
        "plt.plot(x,y,\"-\")"
      ],
      "execution_count": null,
      "outputs": []
    },
    {
      "cell_type": "markdown",
      "metadata": {
        "id": "Zm1gcztxG0Qv",
        "colab_type": "text"
      },
      "source": [
        "## Salvando a figura "
      ]
    },
    {
      "cell_type": "code",
      "metadata": {
        "id": "cUa6BzxVqmi3",
        "colab_type": "code",
        "colab": {}
      },
      "source": [
        "plt.plot(x,y,\"-\")\n",
        "plt.savefig(\"seno.png\",transparent=True)"
      ],
      "execution_count": null,
      "outputs": []
    },
    {
      "cell_type": "markdown",
      "metadata": {
        "id": "joOuxgJvuGDB",
        "colab_type": "text"
      },
      "source": [
        "Confira a documentação no [site do Matplotlib.](https://www.matplotlib.org)"
      ]
    },
    {
      "cell_type": "code",
      "metadata": {
        "id": "NTw84lpKqzJJ",
        "colab_type": "code",
        "colab": {}
      },
      "source": [
        "!ls"
      ],
      "execution_count": null,
      "outputs": []
    },
    {
      "cell_type": "markdown",
      "metadata": {
        "id": "08dKEVzaGo5k",
        "colab_type": "text"
      },
      "source": [
        "## Funções do usuário  \n"
      ]
    },
    {
      "cell_type": "code",
      "metadata": {
        "id": "rQkXWwByGzKL",
        "colab_type": "code",
        "colab": {}
      },
      "source": [
        "def f(x,a=1,k=1):\n",
        "  return a*np.sin(k*x)\n",
        "\n",
        "plt.figure(figsize=(10,10))\n",
        "plt.plot(x,f(x),\"b-\")\n",
        "plt.plot(x,f(x,2),\"r-\")\n",
        "plt.plot(x,f(x,k=2),'g-')"
      ],
      "execution_count": null,
      "outputs": []
    },
    {
      "cell_type": "markdown",
      "metadata": {
        "id": "1ey36Wvawzgg",
        "colab_type": "text"
      },
      "source": [
        "Verifique a documentação em [matplotlib.pyplot.plot](https://matplotlib.org/api/_as_gen/matplotlib.pyplot.plot.html)"
      ]
    },
    {
      "cell_type": "markdown",
      "metadata": {
        "id": "u11o3i2Wy1iM",
        "colab_type": "text"
      },
      "source": [
        "[XKCD](https://xkcd.com)"
      ]
    },
    {
      "cell_type": "markdown",
      "metadata": {
        "id": "klYLFfvFzLc7",
        "colab_type": "text"
      },
      "source": [
        "![](https://imgs.xkcd.com/comics/python.png)"
      ]
    },
    {
      "cell_type": "code",
      "metadata": {
        "id": "kD-gMGaa00Pg",
        "colab_type": "code",
        "colab": {}
      },
      "source": [
        ""
      ],
      "execution_count": null,
      "outputs": []
    }
  ]
}