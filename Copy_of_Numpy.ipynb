{
  "nbformat": 4,
  "nbformat_minor": 0,
  "metadata": {
    "kernelspec": {
      "display_name": "Python 3",
      "language": "python",
      "name": "python3"
    },
    "language_info": {
      "codemirror_mode": {
        "name": "ipython",
        "version": 3
      },
      "file_extension": ".py",
      "mimetype": "text/x-python",
      "name": "python",
      "nbconvert_exporter": "python",
      "pygments_lexer": "ipython3",
      "version": "3.7.6"
    },
    "colab": {
      "name": "Copy of Numpy.ipynb",
      "provenance": [],
      "include_colab_link": true
    }
  },
  "cells": [
    {
      "cell_type": "markdown",
      "metadata": {
        "id": "view-in-github",
        "colab_type": "text"
      },
      "source": [
        "<a href=\"https://colab.research.google.com/github/vitoriasgomes/Aulas/blob/master/Copy_of_Numpy.ipynb\" target=\"_parent\"><img src=\"https://colab.research.google.com/assets/colab-badge.svg\" alt=\"Open In Colab\"/></a>"
      ]
    },
    {
      "cell_type": "code",
      "metadata": {
        "id": "UEcF11htVcG7",
        "colab_type": "code",
        "colab": {}
      },
      "source": [
        "import numpy as np\n",
        "\n",
        "v1 = [0,1,2,3]\n",
        "v2 = [4,5,6,7]\n",
        "a1 = np.array(v1)\n",
        "a2 = np.array(v2)\n",
        "print(type(a1),type(a2))"
      ],
      "execution_count": null,
      "outputs": []
    },
    {
      "cell_type": "code",
      "metadata": {
        "id": "-NOwSINEVcHD",
        "colab_type": "code",
        "colab": {}
      },
      "source": [
        "a1+a2"
      ],
      "execution_count": null,
      "outputs": []
    },
    {
      "cell_type": "code",
      "metadata": {
        "id": "cGDV--n3VcHL",
        "colab_type": "code",
        "colab": {}
      },
      "source": [
        "a2 - a1"
      ],
      "execution_count": null,
      "outputs": []
    },
    {
      "cell_type": "code",
      "metadata": {
        "id": "y6QxV-sxVcHS",
        "colab_type": "code",
        "colab": {}
      },
      "source": [
        "a1[1] = 'sim'"
      ],
      "execution_count": null,
      "outputs": []
    },
    {
      "cell_type": "code",
      "metadata": {
        "id": "M2aIX7w_VcHZ",
        "colab_type": "code",
        "colab": {}
      },
      "source": [
        "a1 ** 2"
      ],
      "execution_count": null,
      "outputs": []
    },
    {
      "cell_type": "code",
      "metadata": {
        "id": "Xt2Dv-b4VcHe",
        "colab_type": "code",
        "colab": {}
      },
      "source": [
        "type(a1)"
      ],
      "execution_count": null,
      "outputs": []
    },
    {
      "cell_type": "code",
      "metadata": {
        "id": "XkA8RTRfVcHi",
        "colab_type": "code",
        "colab": {}
      },
      "source": [
        "a1.shape"
      ],
      "execution_count": null,
      "outputs": []
    },
    {
      "cell_type": "code",
      "metadata": {
        "id": "rbys9WYzVcHn",
        "colab_type": "code",
        "colab": {}
      },
      "source": [
        "type(a1[0])"
      ],
      "execution_count": null,
      "outputs": []
    },
    {
      "cell_type": "code",
      "metadata": {
        "id": "seAN6FbUVcHq",
        "colab_type": "code",
        "colab": {}
      },
      "source": [
        "a1 = np.arange(4)\n",
        "a1"
      ],
      "execution_count": null,
      "outputs": []
    },
    {
      "cell_type": "code",
      "metadata": {
        "id": "XL9p3BzRVcHu",
        "colab_type": "code",
        "colab": {}
      },
      "source": [
        "a1.shape = (2,2)\n",
        "a1"
      ],
      "execution_count": null,
      "outputs": []
    },
    {
      "cell_type": "code",
      "metadata": {
        "id": "s7gbwk5mVcHx",
        "colab_type": "code",
        "colab": {}
      },
      "source": [
        "a1 = np.arange(4)\n",
        "a1.reshape(2,2)"
      ],
      "execution_count": null,
      "outputs": []
    },
    {
      "cell_type": "code",
      "metadata": {
        "id": "m2JJuIT0VcH0",
        "colab_type": "code",
        "colab": {}
      },
      "source": [
        "a1"
      ],
      "execution_count": null,
      "outputs": []
    },
    {
      "cell_type": "code",
      "metadata": {
        "id": "bSwC_fl6aK8l",
        "colab_type": "code",
        "colab": {}
      },
      "source": [
        "a1[-1::-1]"
      ],
      "execution_count": null,
      "outputs": []
    },
    {
      "cell_type": "code",
      "metadata": {
        "id": "CyIJhw-7VcH3",
        "colab_type": "code",
        "colab": {}
      },
      "source": [
        "a1.resize(2,2)\n",
        "a1"
      ],
      "execution_count": null,
      "outputs": []
    },
    {
      "cell_type": "code",
      "metadata": {
        "id": "pP4gRI2vVcH6",
        "colab_type": "code",
        "colab": {}
      },
      "source": [
        "a1.flatten()"
      ],
      "execution_count": null,
      "outputs": []
    },
    {
      "cell_type": "code",
      "metadata": {
        "id": "oYkr3-Yuazzt",
        "colab_type": "code",
        "colab": {}
      },
      "source": [
        "a1"
      ],
      "execution_count": null,
      "outputs": []
    },
    {
      "cell_type": "code",
      "metadata": {
        "id": "ctxnnns4awC2",
        "colab_type": "code",
        "colab": {}
      },
      "source": [
        "a1 = a1.flatten()\n",
        "a1"
      ],
      "execution_count": null,
      "outputs": []
    },
    {
      "cell_type": "code",
      "metadata": {
        "id": "Yrnpon3xVcH9",
        "colab_type": "code",
        "colab": {}
      },
      "source": [
        "a1"
      ],
      "execution_count": null,
      "outputs": []
    },
    {
      "cell_type": "code",
      "metadata": {
        "id": "MjP-0kyyVcIA",
        "colab_type": "code",
        "colab": {}
      },
      "source": [
        "a2.resize(2,2)\n",
        "a2"
      ],
      "execution_count": null,
      "outputs": []
    },
    {
      "cell_type": "code",
      "metadata": {
        "id": "dqjQcL9XVcID",
        "colab_type": "code",
        "colab": {}
      },
      "source": [
        "a1*a2"
      ],
      "execution_count": null,
      "outputs": []
    },
    {
      "cell_type": "code",
      "metadata": {
        "id": "4U5qPBxZVcIG",
        "colab_type": "code",
        "colab": {}
      },
      "source": [
        "np.dot(a1,a2)"
      ],
      "execution_count": null,
      "outputs": []
    },
    {
      "cell_type": "code",
      "metadata": {
        "id": "gy75yvxSopNm",
        "colab_type": "code",
        "colab": {}
      },
      "source": [
        "a1"
      ],
      "execution_count": null,
      "outputs": []
    },
    {
      "cell_type": "code",
      "metadata": {
        "id": "zEPtqgkjVcIM",
        "colab_type": "code",
        "colab": {}
      },
      "source": [
        "np.concatenate((a1,a2), axis=1)"
      ],
      "execution_count": null,
      "outputs": []
    },
    {
      "cell_type": "code",
      "metadata": {
        "id": "BBBs3VeOVcIP",
        "colab_type": "code",
        "colab": {}
      },
      "source": [
        "a3 = np.concatenate((a1,a2), axis=1)\n",
        "a4 = np.hstack((a1,a2))\n",
        "a4"
      ],
      "execution_count": null,
      "outputs": []
    },
    {
      "cell_type": "code",
      "metadata": {
        "id": "iCKmUmHgVcIS",
        "colab_type": "code",
        "colab": {}
      },
      "source": [
        "a3 == a4"
      ],
      "execution_count": null,
      "outputs": []
    },
    {
      "cell_type": "code",
      "metadata": {
        "id": "9F4QwENZVcIV",
        "colab_type": "code",
        "colab": {}
      },
      "source": [
        "a3.dtype"
      ],
      "execution_count": null,
      "outputs": []
    },
    {
      "cell_type": "code",
      "metadata": {
        "id": "bThbgaWMVcIZ",
        "colab_type": "code",
        "colab": {}
      },
      "source": [
        "a3.size"
      ],
      "execution_count": null,
      "outputs": []
    },
    {
      "cell_type": "code",
      "metadata": {
        "id": "hruIh2-ZVcIb",
        "colab_type": "code",
        "colab": {}
      },
      "source": [
        "len(a3)"
      ],
      "execution_count": null,
      "outputs": []
    },
    {
      "cell_type": "code",
      "metadata": {
        "id": "cMZoFABgVcIf",
        "colab_type": "code",
        "colab": {}
      },
      "source": [
        "a1"
      ],
      "execution_count": null,
      "outputs": []
    },
    {
      "cell_type": "code",
      "metadata": {
        "id": "FGGM-GwWVcIi",
        "colab_type": "code",
        "colab": {}
      },
      "source": [
        "a1.T"
      ],
      "execution_count": null,
      "outputs": []
    },
    {
      "cell_type": "code",
      "metadata": {
        "id": "VhXCD9sVVcIl",
        "colab_type": "code",
        "colab": {}
      },
      "source": [
        "a1.tolist()"
      ],
      "execution_count": null,
      "outputs": []
    },
    {
      "cell_type": "code",
      "metadata": {
        "id": "U_UkNlFgVcIp",
        "colab_type": "code",
        "colab": {}
      },
      "source": [
        "type(a1)"
      ],
      "execution_count": null,
      "outputs": []
    },
    {
      "cell_type": "code",
      "metadata": {
        "id": "i45gP4h2VcIs",
        "colab_type": "code",
        "colab": {}
      },
      "source": [
        "a3 = np.arange(25).reshape(5,5)\n",
        "a3"
      ],
      "execution_count": null,
      "outputs": []
    },
    {
      "cell_type": "code",
      "metadata": {
        "id": "2YQCjyl6VcIu",
        "colab_type": "code",
        "colab": {}
      },
      "source": [
        "import matplotlib.pyplot as plt\n",
        "\n",
        "plt.imshow(a3)"
      ],
      "execution_count": null,
      "outputs": []
    },
    {
      "cell_type": "code",
      "metadata": {
        "id": "BmaFOw-6VcIx",
        "colab_type": "code",
        "colab": {}
      },
      "source": [
        "a3[4][4] = a3[0][0]\n",
        "plt.imshow(a3,cmap='hot')\n",
        "plt.colorbar()"
      ],
      "execution_count": null,
      "outputs": []
    },
    {
      "cell_type": "markdown",
      "metadata": {
        "id": "aLa4S7HQVcI0",
        "colab_type": "text"
      },
      "source": [
        "[Colormap Reference](https://matplotlib.org/3.1.1/gallery/color/colormap_reference.html)"
      ]
    }
  ]
}