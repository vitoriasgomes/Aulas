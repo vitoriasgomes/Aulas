{
  "nbformat": 4,
  "nbformat_minor": 0,
  "metadata": {
    "colab": {
      "name": "Copy of exPandas01.ipynb",
      "provenance": [],
      "private_outputs": true,
      "collapsed_sections": [],
      "include_colab_link": true
    },
    "kernelspec": {
      "name": "python3",
      "display_name": "Python 3"
    }
  },
  "cells": [
    {
      "cell_type": "markdown",
      "metadata": {
        "id": "view-in-github",
        "colab_type": "text"
      },
      "source": [
        "<a href=\"https://colab.research.google.com/github/vitoriasgomes/Aulas/blob/master/exPandas01.ipynb\" target=\"_parent\"><img src=\"https://colab.research.google.com/assets/colab-badge.svg\" alt=\"Open In Colab\"/></a>"
      ]
    },
    {
      "cell_type": "markdown",
      "metadata": {
        "id": "USaqaRFwbEka",
        "colab_type": "text"
      },
      "source": [
        "Importe os pacotes `Pandas` e `Matplotlib.PyPlot`"
      ]
    },
    {
      "cell_type": "code",
      "metadata": {
        "id": "ciQJ31K3M0Nj",
        "colab_type": "code",
        "colab": {}
      },
      "source": [
        "import pandas as pd\n",
        "import matplotlib.pyplot as plt\n"
      ],
      "execution_count": null,
      "outputs": []
    },
    {
      "cell_type": "markdown",
      "metadata": {
        "id": "aObo9HeaSJ0h",
        "colab_type": "text"
      },
      "source": [
        "Visite http://tylervigen.com/view_correlation?id=1129 e veja a correlação entre as curvas de acidentes de moto com alvos parados e o consumo per capita de galinha, nos USA. \n",
        "\n",
        "Você pode visitar http://tylervigen.com/discover e verficar outras correlações espúrias. Divirta-se mas volte para terminar este exercício. "
      ]
    },
    {
      "cell_type": "markdown",
      "metadata": {
        "id": "g0bD9iNVTRv5",
        "colab_type": "text"
      },
      "source": [
        "Além de csv, o Pandas lê outros tipo de arquivos, como tsv, JSON e mesmo tabelas em páginas html, embora possa exigir um pouco de trabalho para limpar os dados. Vamos ver como fazer isso neste exercício."
      ]
    },
    {
      "cell_type": "code",
      "metadata": {
        "id": "37Xa6cWdSFx5",
        "colab_type": "code",
        "colab": {}
      },
      "source": [
        "pagina = pd.read_html('http://tylervigen.com/view_correlation?id=1129')"
      ],
      "execution_count": null,
      "outputs": []
    },
    {
      "cell_type": "markdown",
      "metadata": {
        "id": "XTZdRCeLTvje",
        "colab_type": "text"
      },
      "source": [
        "Observe que existe uma tabela nesta página. Vamos tentar tirar os dados dela. "
      ]
    },
    {
      "cell_type": "markdown",
      "metadata": {
        "id": "_AFlJZ7bW974",
        "colab_type": "text"
      },
      "source": [
        "Imprima `pagina`"
      ]
    },
    {
      "cell_type": "code",
      "metadata": {
        "id": "v24AZjBFNRUo",
        "colab_type": "code",
        "colab": {}
      },
      "source": [
        ""
      ],
      "execution_count": null,
      "outputs": []
    },
    {
      "cell_type": "markdown",
      "metadata": {
        "id": "7wXklR4HULEq",
        "colab_type": "text"
      },
      "source": [
        "Se tudo deu certo, deve estar parecida com a tabela, embora não seja perfeita.\n",
        "\n",
        "Na linha abaixo, descubra que tipo de estrutura é `pagina`. "
      ]
    },
    {
      "cell_type": "code",
      "metadata": {
        "id": "3d0kWRmfPDTX",
        "colab_type": "code",
        "colab": {}
      },
      "source": [
        ""
      ],
      "execution_count": null,
      "outputs": []
    },
    {
      "cell_type": "markdown",
      "metadata": {
        "id": "TJoOmeC5W4dm",
        "colab_type": "text"
      },
      "source": [
        "Examine os elementos de `pagina`. Qual deles se parece com uma tabela ?  Experimente na linha abaixo.."
      ]
    },
    {
      "cell_type": "code",
      "metadata": {
        "id": "u3xtA_BOXVEk",
        "colab_type": "code",
        "colab": {}
      },
      "source": [
        ""
      ],
      "execution_count": null,
      "outputs": []
    },
    {
      "cell_type": "markdown",
      "metadata": {
        "id": "HG15pr-9XVyQ",
        "colab_type": "text"
      },
      "source": [
        "Que tipo de estrutura é esse elemento de `pagina` ? "
      ]
    },
    {
      "cell_type": "code",
      "metadata": {
        "id": "CR5u2NdtPE_g",
        "colab_type": "code",
        "colab": {}
      },
      "source": [
        ""
      ],
      "execution_count": null,
      "outputs": []
    },
    {
      "cell_type": "markdown",
      "metadata": {
        "id": "tea1vvwCYBOj",
        "colab_type": "text"
      },
      "source": [
        "Crie duas séries para análise : `moto` e `frango`\n",
        "\n",
        "`moto` deve ser a primeira linha da tabela e `galinha` a segunda, como está na página. Transforme os valores em tipo `float`"
      ]
    },
    {
      "cell_type": "code",
      "metadata": {
        "id": "6t9DHXrwPI5c",
        "colab_type": "code",
        "colab": {}
      },
      "source": [
        ""
      ],
      "execution_count": null,
      "outputs": []
    },
    {
      "cell_type": "markdown",
      "metadata": {
        "id": "alFdOeq-Yk_U",
        "colab_type": "text"
      },
      "source": [
        "Verfique se `moto` é mesmo uma `Series`\n",
        " \n",
        "\n"
      ]
    },
    {
      "cell_type": "code",
      "metadata": {
        "id": "rPQZ5WCjYuJI",
        "colab_type": "code",
        "colab": {}
      },
      "source": [
        ""
      ],
      "execution_count": null,
      "outputs": []
    },
    {
      "cell_type": "markdown",
      "metadata": {
        "id": "Hw13YZswYupH",
        "colab_type": "text"
      },
      "source": [
        "Faça um scatter plot de `moto` vs `galinha`. As variáveis parecem correlacionadas, neste plot ? "
      ]
    },
    {
      "cell_type": "code",
      "metadata": {
        "id": "Nj2M4pTLQvVE",
        "colab_type": "code",
        "colab": {}
      },
      "source": [
        ""
      ],
      "execution_count": null,
      "outputs": []
    },
    {
      "cell_type": "markdown",
      "metadata": {
        "id": "CbLw9CqBRlO7",
        "colab_type": "text"
      },
      "source": [
        "Faça um regressão linear destes pontos "
      ]
    },
    {
      "cell_type": "code",
      "metadata": {
        "id": "HP5Gt_YkZE2Y",
        "colab_type": "code",
        "colab": {}
      },
      "source": [
        ""
      ],
      "execution_count": null,
      "outputs": []
    },
    {
      "cell_type": "markdown",
      "metadata": {
        "id": "1w05vdueZH71",
        "colab_type": "text"
      },
      "source": [
        "Qual o coeficiente do ajuste ? \n"
      ]
    },
    {
      "cell_type": "code",
      "metadata": {
        "id": "3GjpHqjnZMcg",
        "colab_type": "code",
        "colab": {}
      },
      "source": [
        ""
      ],
      "execution_count": null,
      "outputs": []
    },
    {
      "cell_type": "markdown",
      "metadata": {
        "id": "UwZUcl56ZNS6",
        "colab_type": "text"
      },
      "source": [
        "Refaça o scatter plot e inclua os valores preditos como uma linha vermelha"
      ]
    },
    {
      "cell_type": "code",
      "metadata": {
        "id": "K1KLMXIyZXQ6",
        "colab_type": "code",
        "colab": {}
      },
      "source": [
        ""
      ],
      "execution_count": null,
      "outputs": []
    },
    {
      "cell_type": "markdown",
      "metadata": {
        "id": "7q1ALC-GZgK9",
        "colab_type": "text"
      },
      "source": [
        "Qual o valor do método score(moto,galinha) para o objeto de regressão linear que você criou ?  \n",
        "\n",
        "O que significa o score ?"
      ]
    }
  ]
}