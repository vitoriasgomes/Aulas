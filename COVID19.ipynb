{
  "nbformat": 4,
  "nbformat_minor": 0,
  "metadata": {
    "colab": {
      "name": "COVID19.ipynb",
      "provenance": [],
      "private_outputs": true,
      "toc_visible": true,
      "include_colab_link": true
    },
    "kernelspec": {
      "name": "python3",
      "display_name": "Python 3"
    }
  },
  "cells": [
    {
      "cell_type": "markdown",
      "metadata": {
        "id": "view-in-github",
        "colab_type": "text"
      },
      "source": [
        "<a href=\"https://colab.research.google.com/github/vitoriasgomes/Aulas/blob/master/COVID19.ipynb\" target=\"_parent\"><img src=\"https://colab.research.google.com/assets/colab-badge.svg\" alt=\"Open In Colab\"/></a>"
      ]
    },
    {
      "cell_type": "markdown",
      "metadata": {
        "id": "rfNjrsiiu1Mp",
        "colab_type": "text"
      },
      "source": [
        "# Acompanhamento de casos da COVID-19"
      ]
    },
    {
      "cell_type": "code",
      "metadata": {
        "id": "tfWdjZ03ukFt",
        "colab_type": "code",
        "colab": {}
      },
      "source": [
        "import pandas as pd\n",
        "import matplotlib.pyplot as plt\n",
        "from urllib.request import Request, urlopen\n",
        "import io\n",
        "import gzip"
      ],
      "execution_count": null,
      "outputs": []
    },
    {
      "cell_type": "markdown",
      "metadata": {
        "id": "G05GImipvlvI",
        "colab_type": "text"
      },
      "source": [
        "## Baixa os dados"
      ]
    },
    {
      "cell_type": "code",
      "metadata": {
        "id": "ThmySwXVvn5g",
        "colab_type": "code",
        "colab": {}
      },
      "source": [
        "url = \"https://data.brasil.io/dataset/covid19/caso_full.csv.gz\"\n",
        "\n",
        "request = Request(url, headers={\"User-Agent\": \"python-urllib\"})\n",
        "response = urlopen(request)\n",
        "data = gzip.decompress(response.read()).decode(\"utf-8\")\n",
        "df = pd.read_csv(io.StringIO(data))"
      ],
      "execution_count": null,
      "outputs": []
    },
    {
      "cell_type": "code",
      "metadata": {
        "id": "FSCjjyc9xSLs",
        "colab_type": "code",
        "colab": {}
      },
      "source": [
        "df.head()"
      ],
      "execution_count": null,
      "outputs": []
    },
    {
      "cell_type": "code",
      "metadata": {
        "id": "ttD6n56nxnKn",
        "colab_type": "code",
        "colab": {}
      },
      "source": [
        "df.info()"
      ],
      "execution_count": null,
      "outputs": []
    },
    {
      "cell_type": "markdown",
      "metadata": {
        "id": "aqvU1GmAvOuV",
        "colab_type": "text"
      },
      "source": [
        "## Dados de entrada\n"
      ]
    },
    {
      "cell_type": "code",
      "metadata": {
        "id": "UXJqGOYGvONf",
        "colab_type": "code",
        "colab": {}
      },
      "source": [
        "municipio = 'Volta Redonda'\n",
        "estado = 'RJ'"
      ],
      "execution_count": null,
      "outputs": []
    },
    {
      "cell_type": "markdown",
      "metadata": {
        "id": "OMmdZUf9I6ss",
        "colab_type": "text"
      },
      "source": [
        "Criando um dataframe que é uma \"fatia\" do original. "
      ]
    },
    {
      "cell_type": "code",
      "metadata": {
        "id": "y4NzkpZgxrpS",
        "colab_type": "code",
        "colab": {}
      },
      "source": [
        "municipio_df = df[(df['city'] == municipio) & (df['state'] == estado)]"
      ],
      "execution_count": null,
      "outputs": []
    },
    {
      "cell_type": "code",
      "metadata": {
        "id": "tX740CQTyOqG",
        "colab_type": "code",
        "colab": {}
      },
      "source": [
        "municipio_df.head()"
      ],
      "execution_count": null,
      "outputs": []
    },
    {
      "cell_type": "markdown",
      "metadata": {
        "id": "xGWCXGVMJLXI",
        "colab_type": "text"
      },
      "source": [
        "Transformando a coluna `date` de `str` para `datetime`"
      ]
    },
    {
      "cell_type": "code",
      "metadata": {
        "id": "_GutYZwGzke0",
        "colab_type": "code",
        "colab": {}
      },
      "source": [
        "municipio_df.date = pd.to_datetime(municipio_df.date)"
      ],
      "execution_count": null,
      "outputs": []
    },
    {
      "cell_type": "markdown",
      "metadata": {
        "id": "LaqCIqQb9-zn",
        "colab_type": "text"
      },
      "source": [
        "### SettingWithCopyWarning: \n",
        "\n",
        "```\n",
        "SettingWithCopyWarning:\n",
        "A value is trying to be set on a copy of a slice from a DataFrame.\n",
        "```\n",
        "\n",
        "\n",
        "\n",
        "\n"
      ]
    },
    {
      "cell_type": "code",
      "metadata": {
        "id": "CfAEbBRR6hVf",
        "colab_type": "code",
        "colab": {}
      },
      "source": [
        "municipio_df.info()"
      ],
      "execution_count": null,
      "outputs": []
    },
    {
      "cell_type": "code",
      "metadata": {
        "id": "FbZUP72z4PI5",
        "colab_type": "code",
        "colab": {}
      },
      "source": [
        "municipio_df.loc[:,'date'] = pd.to_datetime(municipio_df.date)"
      ],
      "execution_count": null,
      "outputs": []
    },
    {
      "cell_type": "markdown",
      "metadata": {
        "id": "cs2Qv6Q8JhlG",
        "colab_type": "text"
      },
      "source": [
        "Explicamos ao Pandas que, explicitamente, queremos uma cópia."
      ]
    },
    {
      "cell_type": "code",
      "metadata": {
        "id": "4w1x5TxlBZOU",
        "colab_type": "code",
        "colab": {}
      },
      "source": [
        "municipio_df = df[(df['city'] == municipio) & (df['state'] == estado)].copy()"
      ],
      "execution_count": null,
      "outputs": []
    },
    {
      "cell_type": "code",
      "metadata": {
        "id": "Jnc5hu1vBjuI",
        "colab_type": "code",
        "colab": {}
      },
      "source": [
        "municipio_df['date'] = pd.to_datetime(municipio_df.date)"
      ],
      "execution_count": null,
      "outputs": []
    },
    {
      "cell_type": "code",
      "metadata": {
        "id": "3IJU9arbKvmV",
        "colab_type": "code",
        "colab": {}
      },
      "source": [
        "municipio_df.info()"
      ],
      "execution_count": null,
      "outputs": []
    },
    {
      "cell_type": "markdown",
      "metadata": {
        "id": "AlZdeFj_5Sn3",
        "colab_type": "text"
      },
      "source": [
        "### Por que usar `datetime` ? "
      ]
    },
    {
      "cell_type": "markdown",
      "metadata": {
        "id": "0MjFfeAs5oB5",
        "colab_type": "text"
      },
      "source": [
        "Documentação em [https://pandas.pydata.org/pandas-docs/stable/reference/series.html#api-series-dt](https://pandas.pydata.org/pandas-docs/stable/reference/series.html#api-series-dt)"
      ]
    },
    {
      "cell_type": "code",
      "metadata": {
        "id": "xEDkealu5-gX",
        "colab_type": "code",
        "colab": {}
      },
      "source": [
        "municipio_df.date.dt.dayofyear.iloc[-1] -  municipio_df.date.dt.dayofyear.iloc[0]"
      ],
      "execution_count": null,
      "outputs": []
    },
    {
      "cell_type": "code",
      "metadata": {
        "id": "MSB4hG58bAyj",
        "colab_type": "code",
        "colab": {}
      },
      "source": [
        "municipio_df.date.max() - municipio_df.date.min()"
      ],
      "execution_count": null,
      "outputs": []
    },
    {
      "cell_type": "code",
      "metadata": {
        "id": "QXhYVipHFlH5",
        "colab_type": "code",
        "colab": {}
      },
      "source": [
        "municipio_df.columns"
      ],
      "execution_count": null,
      "outputs": []
    },
    {
      "cell_type": "code",
      "metadata": {
        "id": "guBcuH9fs0NH",
        "colab_type": "code",
        "colab": {}
      },
      "source": [
        "municipio_index = pd.DatetimeIndex(municipio_df.date.values)"
      ],
      "execution_count": null,
      "outputs": []
    },
    {
      "cell_type": "code",
      "metadata": {
        "id": "lRBjqxdvC4dd",
        "colab_type": "code",
        "colab": {}
      },
      "source": [
        "municipio_df.set_index(municipio_index, inplace=True)"
      ],
      "execution_count": null,
      "outputs": []
    },
    {
      "cell_type": "code",
      "metadata": {
        "id": "y0xZ8qT9Eali",
        "colab_type": "code",
        "colab": {}
      },
      "source": [
        "municipio_df.head()"
      ],
      "execution_count": null,
      "outputs": []
    },
    {
      "cell_type": "code",
      "metadata": {
        "id": "L4-wbepFLt3n",
        "colab_type": "code",
        "colab": {}
      },
      "source": [
        "municipio_df.index.name = 'day'"
      ],
      "execution_count": null,
      "outputs": []
    },
    {
      "cell_type": "code",
      "metadata": {
        "id": "8s8rd715Q0NF",
        "colab_type": "code",
        "colab": {}
      },
      "source": [
        "municipio_df.head()"
      ],
      "execution_count": null,
      "outputs": []
    },
    {
      "cell_type": "code",
      "metadata": {
        "id": "b-ZKkCf1u32Z",
        "colab_type": "code",
        "colab": {}
      },
      "source": [
        "municipio_df.drop('date',axis=1, inplace=True)"
      ],
      "execution_count": null,
      "outputs": []
    },
    {
      "cell_type": "code",
      "metadata": {
        "id": "iA3JTHKiOgxB",
        "colab_type": "code",
        "colab": {}
      },
      "source": [
        "municipio_df.head()"
      ],
      "execution_count": null,
      "outputs": []
    },
    {
      "cell_type": "code",
      "metadata": {
        "id": "XCaWcS0rNTw5",
        "colab_type": "code",
        "colab": {}
      },
      "source": [
        "plt.figure(figsize=(10,8))\n",
        "\n",
        "plt.bar(municipio_df.index, municipio_df.last_available_confirmed, label= 'Contaminados')\n",
        "plt.legend()"
      ],
      "execution_count": null,
      "outputs": []
    },
    {
      "cell_type": "markdown",
      "metadata": {
        "id": "8oAhxxpcTngH",
        "colab_type": "text"
      },
      "source": [
        "# Múltiplos Plots"
      ]
    },
    {
      "cell_type": "markdown",
      "metadata": {
        "id": "x3EmiKd3T2IM",
        "colab_type": "text"
      },
      "source": [
        "[texto do link](https://)Plotar, para um dado município, os casos confirmados, os óbitos, e os  casos e óbitos diários, como uma matriz 2x2. "
      ]
    },
    {
      "cell_type": "markdown",
      "metadata": {
        "id": "3OsY0Bd-Ndbv",
        "colab_type": "text"
      },
      "source": [
        "Estrutura do `Matplotlib`\n",
        "\n",
        "![texto alternativo](https://matplotlib.org/_images/anatomy.png)"
      ]
    },
    {
      "cell_type": "markdown",
      "metadata": {
        "id": "jv6iQ9dbUKZ5",
        "colab_type": "text"
      },
      "source": [
        "Vamos ter um Figure e 4 Axes "
      ]
    },
    {
      "cell_type": "code",
      "metadata": {
        "id": "u1f4iVERN3hz",
        "colab_type": "code",
        "colab": {}
      },
      "source": [
        "fig, axs = plt.subplots(2,2, figsize=(18,10), facecolor='lightgrey')\n",
        "type(fig)\n",
        "type(axs)\n"
      ],
      "execution_count": null,
      "outputs": []
    },
    {
      "cell_type": "markdown",
      "metadata": {
        "id": "vI5yZgIsM1Ss",
        "colab_type": "text"
      },
      "source": [
        "Rodando em Python, você precisaria adicionar o `plt.show()`. No Jupyter, usa-se `%matplotlib inline` ou `%matplotlib notebook`"
      ]
    },
    {
      "cell_type": "code",
      "metadata": {
        "id": "_6_BhTU6MlG1",
        "colab_type": "code",
        "colab": {}
      },
      "source": [
        "fig, axs = plt.subplots(2,2, figsize=(18,10), facecolor='lightgrey')\n",
        "\n",
        "x = municipio_df.index\n",
        "axs[0, 0].bar(x, municipio_df.last_available_confirmed, label = 'Casos Confirmados')\n",
        "axs[0, 1].bar(x, municipio_df.new_confirmed, label = 'Novos Casos')\n",
        "axs[1, 0].bar(x, municipio_df.last_available_deaths, label = 'Óbitos', color='red')\n",
        "axs[1, 1].bar(x, municipio_df.new_deaths, label = 'Novos Óbitos', color = 'red')\n",
        "axs[0,0].legend()\n",
        "axs[0,1].legend()\n",
        "axs[1,0].legend()\n",
        "axs[1,1].legend()\n",
        "plt.xticks(x[::7], rotation=45)"
      ],
      "execution_count": null,
      "outputs": []
    },
    {
      "cell_type": "code",
      "metadata": {
        "id": "Sa9GNk5kUzzP",
        "colab_type": "code",
        "colab": {}
      },
      "source": [
        "fig, axs = plt.subplots(2,2, figsize=(20,10), facecolor='darkgrey', constrained_layout=True, sharex=True)\n",
        "fig.suptitle(\"COVID-19 em \"+municipio, fontsize=24)\n",
        "x = municipio_df.index.strftime(\"%d/%m\")\n",
        "axs[0, 0].bar(x, municipio_df.last_available_confirmed, label = 'Casos Confirmados')\n",
        "axs[0, 1].bar(x, municipio_df.new_confirmed, label = 'Novos Casos')\n",
        "axs[1, 0].bar(x, municipio_df.last_available_deaths, label = 'Óbitos', color='red')\n",
        "axs[1, 1].bar(x, municipio_df.new_deaths, label = 'Novos Óbitos', color = 'red')\n",
        "\n",
        "for a1 in range(len(axs)):\n",
        "  for a2 in range(len(axs[a1])):\n",
        "    axs[a1, a2].legend(frameon=False, loc='upper left')\n",
        "    axs[a1,a2].xaxis.set_major_locator(plt.MultipleLocator(14))\n",
        "    axs[a1,a2].xaxis.set_minor_locator(plt.MultipleLocator(7))\n",
        "    axs[a1,a2].grid(b=True, which='both', color='black', linestyle=':')\n",
        "    axs[a1,a2].set_facecolor('lightgrey')\n",
        "    axs[a1,a2].spines['right'].set_visible(False)\n",
        "    axs[a1,a2].spines['top'].set_visible(False)\n",
        "    axs[a1,a2].spines['left'].set_visible(False)\n",
        "    axs[a1,a2].spines['bottom'].set_visible(False)\n",
        "\n",
        "# plt.tight_layout()"
      ],
      "execution_count": null,
      "outputs": []
    },
    {
      "cell_type": "markdown",
      "metadata": {
        "id": "IKH6DR5Llzez",
        "colab_type": "text"
      },
      "source": [
        "# Intervalo de interesse"
      ]
    },
    {
      "cell_type": "code",
      "metadata": {
        "id": "y5u-M_HMcgv2",
        "colab_type": "code",
        "colab": {}
      },
      "source": [
        "ultimo_mes = municipio_df.loc[municipio_df.index>='2020-07-01'].copy()"
      ],
      "execution_count": null,
      "outputs": []
    },
    {
      "cell_type": "code",
      "metadata": {
        "id": "bAiHAG-naZv1",
        "colab_type": "code",
        "colab": {}
      },
      "source": [
        "inicio = pd.to_datetime('07/01/2020')\n",
        "inicio"
      ],
      "execution_count": null,
      "outputs": []
    },
    {
      "cell_type": "code",
      "metadata": {
        "id": "Yn6HYvmbamB9",
        "colab_type": "code",
        "colab": {}
      },
      "source": [
        "municipio_index[0]"
      ],
      "execution_count": null,
      "outputs": []
    },
    {
      "cell_type": "code",
      "metadata": {
        "id": "k796MpKDnil7",
        "colab_type": "code",
        "colab": {}
      },
      "source": [
        "ultimo_mes.head()"
      ],
      "execution_count": null,
      "outputs": []
    },
    {
      "cell_type": "code",
      "metadata": {
        "id": "QxCiipZJn2ct",
        "colab_type": "code",
        "colab": {}
      },
      "source": [
        "ultimo_mes.info()"
      ],
      "execution_count": null,
      "outputs": []
    },
    {
      "cell_type": "markdown",
      "metadata": {
        "id": "fapjqu6jUKZl",
        "colab_type": "text"
      },
      "source": [
        "# Dicas de análise\n",
        "\n",
        "1. Análise por estado. Verifique a linha de filtro. Pode-se adicionar um `if`, caso `municipio` seja ' ' \n",
        "2. Dados do Brasil inteiro. `groupy(estado).sum()`. Pode-se adicionar outro `if`\n",
        "``` \n",
        "if estado == '' :\n",
        "  # cria uma planilha com os dados agrupados \n",
        "  local_df = .... \n",
        "elif municipio == '':\n",
        "  # Nenhum municipio mas selecionou estado    \n",
        "  local_df = df[df[estado] == ] \n",
        "else : \n",
        "  local_df = df[df[municipio] == municipio....\n",
        "```\n",
        "E repete as instruções com `local`no lugar de `municipio`\n",
        "3. Escolher as 10 cidades mais atingidas em cada período e acompanhar, em um gráfico de linha, em que posição estavam em cada dia. Exemplo: \n",
        "![](http://theroamingpint.com/wp-content/uploads/2013/04/Top-10-Breweries-over-time.png)"
      ]
    },
    {
      "cell_type": "markdown",
      "metadata": {
        "id": "hShpZe6nOYZc",
        "colab_type": "text"
      },
      "source": [
        "# Como enviar o notebook ...\n",
        "\n",
        "1.   Limpem as instruções intermediárias (head()s, info()s)\n",
        "2.   Em Ambiente de Execução, Reiniciar e executar tudo.\n",
        "3.   Salvar (Ctrl+S)\n",
        "4.   Confira o que foi gravado e compartilhe\n"
      ]
    },
    {
      "cell_type": "code",
      "metadata": {
        "id": "jhdhEO_poqpk",
        "colab_type": "code",
        "colab": {}
      },
      "source": [
        ""
      ],
      "execution_count": null,
      "outputs": []
    }
  ]
}