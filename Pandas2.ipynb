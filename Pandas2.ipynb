{
  "nbformat": 4,
  "nbformat_minor": 0,
  "metadata": {
    "colab": {
      "name": "Pandas2.ipynb",
      "provenance": [],
      "private_outputs": true,
      "include_colab_link": true
    },
    "kernelspec": {
      "name": "python3",
      "display_name": "Python 3"
    }
  },
  "cells": [
    {
      "cell_type": "markdown",
      "metadata": {
        "id": "view-in-github",
        "colab_type": "text"
      },
      "source": [
        "<a href=\"https://colab.research.google.com/github/vitoriasgomes/Aulas/blob/master/Pandas2.ipynb\" target=\"_parent\"><img src=\"https://colab.research.google.com/assets/colab-badge.svg\" alt=\"Open In Colab\"/></a>"
      ]
    },
    {
      "cell_type": "code",
      "metadata": {
        "id": "lCK6qK2uFrvu",
        "colab_type": "code",
        "colab": {}
      },
      "source": [
        "import pandas as pd\n",
        "import matplotlib.pyplot as plt\n",
        "import numpy as np"
      ],
      "execution_count": null,
      "outputs": []
    },
    {
      "cell_type": "code",
      "metadata": {
        "id": "JvaNbP5fF2ld",
        "colab_type": "code",
        "colab": {}
      },
      "source": [
        "form_url = 'https://docs.google.com/spreadsheets/d/1MTb0OE-HGbTAO_xihuf-vE02HEqzs1WTA1ze9ayMw3o/export?format=csv'\n",
        "\n",
        "formulario = pd.read_csv(form_url,usecols=[1,2,3,6,7,14])\n",
        "formulario.columns"
      ],
      "execution_count": null,
      "outputs": []
    },
    {
      "cell_type": "code",
      "metadata": {
        "id": "h133DEiwhVcr",
        "colab_type": "code",
        "colab": {}
      },
      "source": [
        "formulario.head()"
      ],
      "execution_count": null,
      "outputs": []
    },
    {
      "cell_type": "code",
      "metadata": {
        "id": "LdzaKPgG6XRY",
        "colab_type": "code",
        "colab": {}
      },
      "source": [
        "formulario.info()"
      ],
      "execution_count": null,
      "outputs": []
    },
    {
      "cell_type": "code",
      "metadata": {
        "id": "ZUTHjCYqGHrg",
        "colab_type": "code",
        "colab": {}
      },
      "source": [
        "formulario.columns = ['Status', 'Curso', 'Ano', 'Periodo', 'CR', 'Linguagens']"
      ],
      "execution_count": null,
      "outputs": []
    },
    {
      "cell_type": "code",
      "metadata": {
        "id": "rwSAknH3KTh4",
        "colab_type": "code",
        "colab": {}
      },
      "source": [
        "formulario.Ano = formulario.Ano.astype(np.int32)"
      ],
      "execution_count": null,
      "outputs": []
    },
    {
      "cell_type": "code",
      "metadata": {
        "id": "TUBGMbCONBZd",
        "colab_type": "code",
        "colab": {}
      },
      "source": [
        "formulario.head()"
      ],
      "execution_count": null,
      "outputs": []
    },
    {
      "cell_type": "code",
      "metadata": {
        "id": "wkNWe7pnIxd5",
        "colab_type": "code",
        "colab": {}
      },
      "source": [
        "formulario.groupby('Status').size()"
      ],
      "execution_count": null,
      "outputs": []
    },
    {
      "cell_type": "code",
      "metadata": {
        "id": "jec7eXontnGt",
        "colab_type": "code",
        "colab": {}
      },
      "source": [
        "formulario.groupby('Status').size().plot(kind='bar',rot=15,figsize=(8,6), color='rebeccapurple')"
      ],
      "execution_count": null,
      "outputs": []
    },
    {
      "cell_type": "code",
      "metadata": {
        "id": "0ySInY1KHqHd",
        "colab_type": "code",
        "colab": {}
      },
      "source": [
        "formulario.groupby('Status').CR.mean()"
      ],
      "execution_count": null,
      "outputs": []
    },
    {
      "cell_type": "code",
      "metadata": {
        "id": "WZ4idnWdI0gw",
        "colab_type": "code",
        "colab": {}
      },
      "source": [
        "formulario.groupby('Status').CR.max()"
      ],
      "execution_count": null,
      "outputs": []
    },
    {
      "cell_type": "code",
      "metadata": {
        "id": "_1OxuhsHVw2O",
        "colab_type": "code",
        "colab": {}
      },
      "source": [
        "graduandos = formulario[ formulario['Status'] == 'Graduando' ]"
      ],
      "execution_count": null,
      "outputs": []
    },
    {
      "cell_type": "code",
      "metadata": {
        "id": "t3y3u1MMUwfq",
        "colab_type": "code",
        "colab": {}
      },
      "source": [
        "graduandos.Ano.hist(bins=7, xrot=60, grid=False, figsize=(8,8), xlabelsize=8)"
      ],
      "execution_count": null,
      "outputs": []
    },
    {
      "cell_type": "code",
      "metadata": {
        "id": "OYnvtuQtYUWk",
        "colab_type": "code",
        "colab": {}
      },
      "source": [
        "graduandos.Periodo.hist(bins=8, grid=False, figsize=(8,8))"
      ],
      "execution_count": null,
      "outputs": []
    },
    {
      "cell_type": "code",
      "metadata": {
        "id": "byV-sVVlYoap",
        "colab_type": "code",
        "colab": {}
      },
      "source": [
        "graduandos.plot.scatter(x='Ano', y='Periodo', figsize=(8,8))"
      ],
      "execution_count": null,
      "outputs": []
    },
    {
      "cell_type": "code",
      "metadata": {
        "id": "o1i5IZ_waf7T",
        "colab_type": "code",
        "colab": {}
      },
      "source": [
        "from sklearn.linear_model import LinearRegression"
      ],
      "execution_count": null,
      "outputs": []
    },
    {
      "cell_type": "code",
      "metadata": {
        "id": "54Qx2J0UdM8p",
        "colab_type": "code",
        "colab": {}
      },
      "source": [
        "y = graduandos.Periodo.to_numpy().reshape(-1,1)\n",
        "x = graduandos.Ano.to_numpy().reshape(-1,1)"
      ],
      "execution_count": null,
      "outputs": []
    },
    {
      "cell_type": "code",
      "metadata": {
        "id": "CqI8XKanfmcW",
        "colab_type": "code",
        "colab": {}
      },
      "source": [
        "ajuste = LinearRegression()\n",
        "ajuste.fit(x,y)\n",
        "ypred = ajuste.predict(x)\n",
        "ajuste.coef_ "
      ],
      "execution_count": null,
      "outputs": []
    },
    {
      "cell_type": "code",
      "metadata": {
        "id": "lQmgFF8diVb8",
        "colab_type": "code",
        "colab": {}
      },
      "source": [
        "plt.scatter(x,y)\n",
        "plt.plot(x,ypred,'r-')"
      ],
      "execution_count": null,
      "outputs": []
    },
    {
      "cell_type": "code",
      "metadata": {
        "id": "GSzFGUvhY1Ua",
        "colab_type": "code",
        "colab": {}
      },
      "source": [
        "graduandos.boxplot('Periodo', by='Ano',  figsize=(8,8))"
      ],
      "execution_count": null,
      "outputs": []
    },
    {
      "cell_type": "code",
      "metadata": {
        "id": "LZ3RBZYAJmh_",
        "colab_type": "code",
        "colab": {}
      },
      "source": [
        "graduandos.Linguagens.describe()"
      ],
      "execution_count": null,
      "outputs": []
    },
    {
      "cell_type": "code",
      "metadata": {
        "id": "QTghsW1hZB47",
        "colab_type": "code",
        "colab": {}
      },
      "source": [
        "graduandos.boxplot('Linguagens', by= 'Ano', figsize=(8,8))"
      ],
      "execution_count": null,
      "outputs": []
    },
    {
      "cell_type": "code",
      "metadata": {
        "id": "r8X_OEvaZbcC",
        "colab_type": "code",
        "colab": {}
      },
      "source": [
        "graduandos.plot.scatter(x='Ano', y='Linguagens', figsize=(8,8))"
      ],
      "execution_count": null,
      "outputs": []
    },
    {
      "cell_type": "code",
      "metadata": {
        "id": "Bd_M-YdNaluE",
        "colab_type": "code",
        "colab": {}
      },
      "source": [
        "graduandos.plot.scatter(x='Ano', y='CR', figsize=(8,8))"
      ],
      "execution_count": null,
      "outputs": []
    },
    {
      "cell_type": "code",
      "metadata": {
        "id": "AiNL2WfSdqCx",
        "colab_type": "code",
        "colab": {}
      },
      "source": [
        "graduandos.boxplot('CR', by= 'Ano', figsize=(8,8))"
      ],
      "execution_count": null,
      "outputs": []
    },
    {
      "cell_type": "code",
      "metadata": {
        "id": "bfyJllHTd3Oa",
        "colab_type": "code",
        "colab": {}
      },
      "source": [
        "graduandos.plot(kind='scatter',x='CR',y='Linguagens', figsize=(8,8))"
      ],
      "execution_count": null,
      "outputs": []
    },
    {
      "cell_type": "code",
      "metadata": {
        "id": "CrZaTd3T3x1_",
        "colab_type": "code",
        "colab": {}
      },
      "source": [
        "graduandos.boxplot('CR', by='Linguagens',figsize=(8,6));"
      ],
      "execution_count": null,
      "outputs": []
    },
    {
      "cell_type": "markdown",
      "metadata": {
        "id": "8t6ci2K21qa7",
        "colab_type": "text"
      },
      "source": [
        "[Spurious Correlations](https://www.tylervigen.com/spurious-correlations)"
      ]
    },
    {
      "cell_type": "markdown",
      "metadata": {
        "id": "p2rbu2GO2NkE",
        "colab_type": "text"
      },
      "source": [
        "![Correlations](https://imgs.xkcd.com/comics/correlation.png)"
      ]
    },
    {
      "cell_type": "markdown",
      "metadata": {
        "id": "pYdnXj3i3miO",
        "colab_type": "text"
      },
      "source": [
        "\n",
        "[Nos jornais](https://noticias.uol.com.br/ultimas-noticias/agencia-estado/2020/04/13/moro-diz-que-pandemia-de-coronavirus-reduziu-acidentes-e-roubos-em-estradas.htm)\n"
      ]
    },
    {
      "cell_type": "markdown",
      "metadata": {
        "id": "N2e7NBpZAzVj",
        "colab_type": "text"
      },
      "source": [
        "[MinutePhysics](https://www.youtube.com/watch?v=HUti6vGctQM)"
      ]
    },
    {
      "cell_type": "code",
      "metadata": {
        "id": "n1NVv4HF35A7",
        "colab_type": "code",
        "colab": {}
      },
      "source": [
        "formulario.Curso.describe()"
      ],
      "execution_count": null,
      "outputs": []
    },
    {
      "cell_type": "code",
      "metadata": {
        "id": "cKaqheINah9S",
        "colab_type": "code",
        "colab": {}
      },
      "source": [
        "formulario.Curso.unique()"
      ],
      "execution_count": null,
      "outputs": []
    },
    {
      "cell_type": "code",
      "metadata": {
        "id": "ots_Jf5Da4G8",
        "colab_type": "code",
        "colab": {}
      },
      "source": [
        "formulario.Curso.nunique()"
      ],
      "execution_count": null,
      "outputs": []
    },
    {
      "cell_type": "code",
      "metadata": {
        "id": "f5Pc_NfSardE",
        "colab_type": "code",
        "colab": {}
      },
      "source": [
        "formulario.Curso = formulario.Curso.str.lower().str.strip()"
      ],
      "execution_count": null,
      "outputs": []
    },
    {
      "cell_type": "code",
      "metadata": {
        "id": "Yk6KV18VaxuL",
        "colab_type": "code",
        "colab": {}
      },
      "source": [
        "formulario.Curso.unique()"
      ],
      "execution_count": null,
      "outputs": []
    },
    {
      "cell_type": "code",
      "metadata": {
        "id": "1BuM2A6fbB_N",
        "colab_type": "code",
        "colab": {}
      },
      "source": [
        "formulario.Curso.nunique()"
      ],
      "execution_count": null,
      "outputs": []
    },
    {
      "cell_type": "code",
      "metadata": {
        "id": "u0DTJ2IcbEJu",
        "colab_type": "code",
        "colab": {}
      },
      "source": [
        "formulario.Curso.replace('matemática computacional', 'matemática', inplace=True)\n",
        "formulario.Curso.replace('licenciatura em química', 'química lic.', inplace=True)"
      ],
      "execution_count": null,
      "outputs": []
    },
    {
      "cell_type": "code",
      "metadata": {
        "id": "zBRf89EenA2D",
        "colab_type": "code",
        "colab": {}
      },
      "source": [
        "formulario.Curso.unique()"
      ],
      "execution_count": null,
      "outputs": []
    },
    {
      "cell_type": "code",
      "metadata": {
        "id": "ue287hOcdfIz",
        "colab_type": "code",
        "colab": {}
      },
      "source": [
        "formulario.Curso.nunique()"
      ],
      "execution_count": null,
      "outputs": []
    },
    {
      "cell_type": "markdown",
      "metadata": {
        "id": "uuPg38bhwW86",
        "colab_type": "text"
      },
      "source": [
        "## Expressões Regulares"
      ]
    },
    {
      "cell_type": "code",
      "metadata": {
        "id": "RJzkq3CPq1UG",
        "colab_type": "code",
        "colab": {}
      },
      "source": [
        "formulario.Curso.replace( '(^f.*)','física', regex=True)\n",
        "formulario.Curso.unique()"
      ],
      "execution_count": null,
      "outputs": []
    },
    {
      "cell_type": "code",
      "metadata": {
        "id": "PBuKvLzTtnrr",
        "colab_type": "code",
        "colab": {}
      },
      "source": [
        "formulario.Curso.replace( '(^f.*)','física', regex=True, inplace=True)"
      ],
      "execution_count": null,
      "outputs": []
    },
    {
      "cell_type": "code",
      "metadata": {
        "id": "qo9ZLK1Cd_6m",
        "colab_type": "code",
        "colab": {}
      },
      "source": [
        "formulario.Curso.nunique()"
      ],
      "execution_count": null,
      "outputs": []
    },
    {
      "cell_type": "code",
      "metadata": {
        "id": "dVQsQ-dsekan",
        "colab_type": "code",
        "colab": {}
      },
      "source": [
        "formulario.groupby('Curso').size().sort_values(ascending=False).plot(kind='bar',rot=90,figsize=(8,6))"
      ],
      "execution_count": null,
      "outputs": []
    },
    {
      "cell_type": "code",
      "metadata": {
        "id": "8rqojK1Xs5Ep",
        "colab_type": "code",
        "colab": {}
      },
      "source": [
        "formulario[formulario.Curso == 'física'].CR.mean()"
      ],
      "execution_count": null,
      "outputs": []
    },
    {
      "cell_type": "code",
      "metadata": {
        "id": "23b6ly7KxcDa",
        "colab_type": "code",
        "colab": {}
      },
      "source": [
        "formulario[formulario.Curso.str.contains('^engenha')].CR.mean()"
      ],
      "execution_count": null,
      "outputs": []
    },
    {
      "cell_type": "markdown",
      "metadata": {
        "id": "CpBwOCm7x2rE",
        "colab_type": "text"
      },
      "source": [
        "## Salvando os dados \"limpos\""
      ]
    },
    {
      "cell_type": "code",
      "metadata": {
        "id": "jIgdC0gofRQW",
        "colab_type": "code",
        "colab": {}
      },
      "source": [
        "from google.colab import drive\n",
        "drive.mount('/gdrive')\n",
        "%cd /gdrive"
      ],
      "execution_count": null,
      "outputs": []
    },
    {
      "cell_type": "code",
      "metadata": {
        "id": "Ddaa1UHVlLdK",
        "colab_type": "code",
        "colab": {}
      },
      "source": [
        "cd \"My Drive/Colab Notebooks\""
      ],
      "execution_count": null,
      "outputs": []
    },
    {
      "cell_type": "code",
      "metadata": {
        "id": "hZo3UlTBlU2N",
        "colab_type": "code",
        "colab": {}
      },
      "source": [
        "formulario.to_csv('formulario_simplificado.csv')"
      ],
      "execution_count": null,
      "outputs": []
    },
    {
      "cell_type": "code",
      "metadata": {
        "id": "pusrZyDNlaNR",
        "colab_type": "code",
        "colab": {}
      },
      "source": [
        "!ls"
      ],
      "execution_count": null,
      "outputs": []
    },
    {
      "cell_type": "code",
      "metadata": {
        "id": "4u6uGB1klzcY",
        "colab_type": "code",
        "colab": {}
      },
      "source": [
        "!head formulario_simplificado.csv"
      ],
      "execution_count": null,
      "outputs": []
    },
    {
      "cell_type": "code",
      "metadata": {
        "id": "8XeC5vtvl4ID",
        "colab_type": "code",
        "colab": {}
      },
      "source": [
        ""
      ],
      "execution_count": null,
      "outputs": []
    }
  ]
}