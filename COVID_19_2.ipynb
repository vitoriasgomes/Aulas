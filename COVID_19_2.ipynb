{
  "nbformat": 4,
  "nbformat_minor": 0,
  "metadata": {
    "colab": {
      "name": "COVID-19-2.ipynb",
      "provenance": [],
      "private_outputs": true,
      "collapsed_sections": [],
      "include_colab_link": true
    },
    "kernelspec": {
      "name": "python3",
      "display_name": "Python 3"
    }
  },
  "cells": [
    {
      "cell_type": "markdown",
      "metadata": {
        "id": "view-in-github",
        "colab_type": "text"
      },
      "source": [
        "<a href=\"https://colab.research.google.com/github/vitoriasgomes/Aulas/blob/master/COVID_19_2.ipynb\" target=\"_parent\"><img src=\"https://colab.research.google.com/assets/colab-badge.svg\" alt=\"Open In Colab\"/></a>"
      ]
    },
    {
      "cell_type": "markdown",
      "metadata": {
        "id": "Uzl8LnjL8fBp",
        "colab_type": "text"
      },
      "source": [
        "# Análise de Séries Temporais da COVID-19"
      ]
    },
    {
      "cell_type": "markdown",
      "metadata": {
        "id": "zqUhANsSKS_m",
        "colab_type": "text"
      },
      "source": [
        "## Médias Móveis"
      ]
    },
    {
      "cell_type": "code",
      "metadata": {
        "id": "7RgSsoxgC8ZE",
        "colab_type": "code",
        "colab": {}
      },
      "source": [
        "import pandas as pd\n",
        "import matplotlib.pyplot as plt\n",
        "import matplotlib.dates as mdates\n",
        "from urllib.request import Request, urlopen\n",
        "import datetime as dt\n",
        "import io\n",
        "import gzip"
      ],
      "execution_count": null,
      "outputs": []
    },
    {
      "cell_type": "code",
      "metadata": {
        "id": "RngOUWo9DDHZ",
        "colab_type": "code",
        "colab": {}
      },
      "source": [
        "url = \"https://data.brasil.io/dataset/covid19/caso_full.csv.gz\"\n",
        "\n",
        "request = Request(url, headers={\"User-Agent\": \"python-urllib\"})\n",
        "response = urlopen(request)\n",
        "data = gzip.decompress(response.read()).decode(\"utf-8\")\n",
        "df = pd.read_csv(io.StringIO(data))"
      ],
      "execution_count": null,
      "outputs": []
    },
    {
      "cell_type": "code",
      "metadata": {
        "id": "Qb687m27DFxQ",
        "colab_type": "code",
        "colab": {}
      },
      "source": [
        "df.head()"
      ],
      "execution_count": null,
      "outputs": []
    },
    {
      "cell_type": "code",
      "metadata": {
        "id": "H9K9glmdDR35",
        "colab_type": "code",
        "colab": {}
      },
      "source": [
        "brasil = df[df.place_type == 'state'].copy()\n",
        "\n",
        "brasil_novos_casos = brasil.groupby('date').new_confirmed"
      ],
      "execution_count": null,
      "outputs": []
    },
    {
      "cell_type": "code",
      "metadata": {
        "id": "5HUqG2VHDerN",
        "colab_type": "code",
        "colab": {}
      },
      "source": [
        "brasil_novos_casos.sum().plot(kind='bar', figsize=(20,8))"
      ],
      "execution_count": null,
      "outputs": []
    },
    {
      "cell_type": "code",
      "metadata": {
        "id": "pk8k2QSTGzLi",
        "colab_type": "code",
        "colab": {}
      },
      "source": [
        "novos_casos_mm = brasil_novos_casos.sum().rolling(15, center=True).mean()"
      ],
      "execution_count": null,
      "outputs": []
    },
    {
      "cell_type": "code",
      "metadata": {
        "id": "fjTp1VWJHIzs",
        "colab_type": "code",
        "colab": {}
      },
      "source": [
        "novos_casos_mm.plot(kind='bar', figsize=(20,8))"
      ],
      "execution_count": null,
      "outputs": []
    },
    {
      "cell_type": "markdown",
      "metadata": {
        "id": "QS7N-ni3JEwz",
        "colab_type": "text"
      },
      "source": [
        "### Estaríamos no pico ??? "
      ]
    },
    {
      "cell_type": "code",
      "metadata": {
        "id": "z7sccZKGH07L",
        "colab_type": "code",
        "colab": {}
      },
      "source": [
        "novos_casos_mm = brasil_novos_casos.sum().rolling(14, center=True, win_type='gaussian').mean(std=3)"
      ],
      "execution_count": null,
      "outputs": []
    },
    {
      "cell_type": "code",
      "metadata": {
        "id": "hoCFZTShJqGw",
        "colab_type": "code",
        "colab": {}
      },
      "source": [
        "plt.style.use(\"ggplot\")\n",
        "novos_casos_mm.plot(kind='bar', figsize=(20,8));"
      ],
      "execution_count": null,
      "outputs": []
    },
    {
      "cell_type": "code",
      "metadata": {
        "id": "pxSdyKqxnBaC",
        "colab_type": "code",
        "colab": {}
      },
      "source": [
        "novos_casos_mm"
      ],
      "execution_count": null,
      "outputs": []
    },
    {
      "cell_type": "code",
      "metadata": {
        "id": "I7GkLKTrnOv2",
        "colab_type": "code",
        "colab": {}
      },
      "source": [
        "type(novos_casos_mm.index[3])"
      ],
      "execution_count": null,
      "outputs": []
    },
    {
      "cell_type": "code",
      "metadata": {
        "id": "lSHmt4cuaET7",
        "colab_type": "code",
        "colab": {}
      },
      "source": [
        "lista_de_datas = novos_casos_mm.index.to_list()\n",
        "casos = novos_casos_mm.values\n",
        "datas = [dt.datetime.strptime(d,'%Y-%m-%d').date() for d in lista_de_datas]\n",
        "print(list(zip(datas,casos))[:10])"
      ],
      "execution_count": null,
      "outputs": []
    },
    {
      "cell_type": "markdown",
      "metadata": {
        "id": "q0kcmmKL8aLD",
        "colab_type": "text"
      },
      "source": [
        "# Animações com MatplotLib"
      ]
    },
    {
      "cell_type": "code",
      "metadata": {
        "id": "KY7SqZC3Jsjm",
        "colab_type": "code",
        "colab": {}
      },
      "source": [
        "from matplotlib.animation import FuncAnimation\n",
        "from matplotlib import rc\n",
        "\n",
        "fig,ax = plt.subplots(1,1, figsize=(14,8))\n",
        "plt.close()\n",
        "line, = ax.plot_date([], [], 'r-', lw=3, xdate=True)\n",
        "#  ax.plot retorna uma lista Line2D, por isso a vírgula\n",
        "\n",
        "ax.set_ylim(0,40000)\n",
        "ax.set_xlim(datas[0],datas[-1])\n",
        "ax.xaxis.set_major_locator(plt.MultipleLocator(14))\n",
        "\n",
        "def init():\n",
        "  line, = ax.plot_date([], [])\n",
        "  return line,\n",
        "\n",
        "def animate(i):\n",
        "  x = datas[:i]\n",
        "  y = casos[:i]\n",
        "  line.set_data(x, y)\n",
        "  return line,\n",
        "\n",
        "anim = FuncAnimation(fig, animate, init_func=init, frames=len(datas), interval=5, blit=True)\n",
        "\n",
        "rc('animation', html='jshtml')\n",
        "anim"
      ],
      "execution_count": null,
      "outputs": []
    },
    {
      "cell_type": "code",
      "metadata": {
        "id": "Hqo9trhiSHRu",
        "colab_type": "code",
        "colab": {}
      },
      "source": [
        "!apt-get update && apt-get install ffmpeg"
      ],
      "execution_count": null,
      "outputs": []
    },
    {
      "cell_type": "code",
      "metadata": {
        "id": "HrVK97kjcV2c",
        "colab_type": "code",
        "colab": {}
      },
      "source": [
        "from matplotlib.animation import FuncAnimation, writers, FFMpegWriter\n",
        "from matplotlib import rc\n",
        "\n",
        "fig,ax = plt.subplots(1,1, figsize=(14,8))\n",
        "plt.close()\n",
        "line = ax.bar([], [])\n",
        "\n",
        "ax.set_ylim(0,40000)\n",
        "ax.set_xlim(datas[0],datas[-1])\n",
        "ax.xaxis.set_major_locator(plt.MultipleLocator(14))\n",
        "anotacao = ax.text(datas[10],35000,'', fontsize=30)\n",
        "\n",
        "def init():\n",
        "  line = ax.bar([], [])\n",
        "  return line\n",
        "\n",
        "def animate(i):\n",
        "  x = datas[:i]\n",
        "  y = casos[:i]\n",
        "\n",
        "  anotacao.set_x(datas[i])\n",
        "  if (casos[i] != casos[i]):\n",
        "    yp = 10\n",
        "    anotacao.set_text('')\n",
        "  else:\n",
        "    yp = casos[i]  \n",
        "    anotacao.set_y(yp)\n",
        "    anotacao.set_text(f'{casos[i]:.0f}')\n",
        "\n",
        "  line = ax.bar(x,y, color='red')\n",
        "  return line\n",
        "\n",
        "anim = FuncAnimation(fig, animate, init_func=init, frames=len(datas), interval=100, blit=True)\n",
        "\n",
        "rc('animation', html='jshtml', ffmpeg_path = '/usr/bin/ffmpeg')\n",
        "anim\n",
        "\n",
        "writer = FFMpegWriter(fps=20)\n",
        "anim.save(\"movie.mp4\", writer=writer, dpi=100)\n",
        "\n",
        "# anim.save('covid.gif', writer='pillow')"
      ],
      "execution_count": null,
      "outputs": []
    },
    {
      "cell_type": "markdown",
      "metadata": {
        "id": "7bTVraREe47f",
        "colab_type": "text"
      },
      "source": [
        "# Merge Dataframes\n"
      ]
    },
    {
      "cell_type": "code",
      "metadata": {
        "id": "kDGE4Wv_6vki",
        "colab_type": "code",
        "colab": {}
      },
      "source": [
        "from google.colab import drive\n",
        "drive.mount('/gdrive')"
      ],
      "execution_count": null,
      "outputs": []
    },
    {
      "cell_type": "code",
      "metadata": {
        "id": "5hWuNxPx7SNv",
        "colab_type": "code",
        "colab": {}
      },
      "source": [
        "%cd /gdrive\n",
        "%cd 'My Drive/Colab Notebooks'"
      ],
      "execution_count": null,
      "outputs": []
    },
    {
      "cell_type": "code",
      "metadata": {
        "id": "psmvmb50e4aJ",
        "colab_type": "code",
        "colab": {}
      },
      "source": [
        "municipios = pd.read_csv('municipios.csv')"
      ],
      "execution_count": null,
      "outputs": []
    },
    {
      "cell_type": "code",
      "metadata": {
        "id": "ri7-VVGofvvQ",
        "colab_type": "code",
        "colab": {}
      },
      "source": [
        "municipios.head()"
      ],
      "execution_count": null,
      "outputs": []
    },
    {
      "cell_type": "code",
      "metadata": {
        "id": "uWVV-M3ThyjK",
        "colab_type": "code",
        "colab": {}
      },
      "source": [
        "df.head()"
      ],
      "execution_count": null,
      "outputs": []
    },
    {
      "cell_type": "markdown",
      "metadata": {
        "id": "OTfcviQ1B1NI",
        "colab_type": "text"
      },
      "source": [
        "### Critério"
      ]
    },
    {
      "cell_type": "code",
      "metadata": {
        "id": "2_1OCyPAyQ3Z",
        "colab_type": "code",
        "colab": {}
      },
      "source": [
        "criterio = 'last_available_death_rate'"
      ],
      "execution_count": null,
      "outputs": []
    },
    {
      "cell_type": "code",
      "metadata": {
        "id": "lB2m88mHh4u8",
        "colab_type": "code",
        "colab": {}
      },
      "source": [
        "casos_estudados = df[ (df.place_type=='city') & (df.last_available_date == '2020-07-18')].copy()"
      ],
      "execution_count": null,
      "outputs": []
    },
    {
      "cell_type": "code",
      "metadata": {
        "id": "BHmc8ONNieFE",
        "colab_type": "code",
        "colab": {}
      },
      "source": [
        "casos_estudados.sort_values(criterio,ascending=False, inplace=True)"
      ],
      "execution_count": null,
      "outputs": []
    },
    {
      "cell_type": "code",
      "metadata": {
        "id": "ib5GqiS_ivO1",
        "colab_type": "code",
        "colab": {}
      },
      "source": [
        "casos_estudados[:100]"
      ],
      "execution_count": null,
      "outputs": []
    },
    {
      "cell_type": "code",
      "metadata": {
        "id": "yXUyXLPOlPLD",
        "colab_type": "code",
        "colab": {}
      },
      "source": [
        "casos_estudados.columns"
      ],
      "execution_count": null,
      "outputs": []
    },
    {
      "cell_type": "code",
      "metadata": {
        "id": "l1vaSDRTkG2i",
        "colab_type": "code",
        "colab": {}
      },
      "source": [
        "casos_estudados_limpos =  casos_estudados[['city','city_ibge_code', 'estimated_population_2019', 'state', criterio]].copy()"
      ],
      "execution_count": null,
      "outputs": []
    },
    {
      "cell_type": "code",
      "metadata": {
        "id": "wdvW6k5XlfHT",
        "colab_type": "code",
        "colab": {}
      },
      "source": [
        "casos_estudados_limpos.head()"
      ],
      "execution_count": null,
      "outputs": []
    },
    {
      "cell_type": "code",
      "metadata": {
        "id": "9gz8QpnGloZr",
        "colab_type": "code",
        "colab": {}
      },
      "source": [
        "municipios.head()"
      ],
      "execution_count": null,
      "outputs": []
    },
    {
      "cell_type": "code",
      "metadata": {
        "id": "davj9LYrmBeH",
        "colab_type": "code",
        "colab": {}
      },
      "source": [
        "casos_novos_municipios = pd.merge(casos_estudados_limpos, municipios[['codigo_ibge','latitude', 'longitude']], \n",
        "                                  left_on='city_ibge_code', right_on='codigo_ibge')\n",
        "casos_novos_municipios.head()"
      ],
      "execution_count": null,
      "outputs": []
    },
    {
      "cell_type": "code",
      "metadata": {
        "id": "_WVgMWlzuIk0",
        "colab_type": "code",
        "colab": {}
      },
      "source": [
        "casos_novos_municipios.drop('codigo_ibge', axis=1)"
      ],
      "execution_count": null,
      "outputs": []
    },
    {
      "cell_type": "code",
      "metadata": {
        "id": "A_ehHkMWui0D",
        "colab_type": "code",
        "colab": {}
      },
      "source": [
        "casos_novos_municipios.drop( 'codigo_ibge', axis=1, inplace=True )"
      ],
      "execution_count": null,
      "outputs": []
    },
    {
      "cell_type": "code",
      "metadata": {
        "id": "mTIuTHY7m30n",
        "colab_type": "code",
        "colab": {}
      },
      "source": [
        "fig, ax = plt.subplots(1,1,figsize=(10,10))\n",
        "ax.scatter(casos_novos_municipios.longitude[:100],casos_novos_municipios.latitude[:100],s=casos_novos_municipios[criterio][:100]*300,\n",
        "           alpha=0.5)\n",
        "ax.set_aspect(1)"
      ],
      "execution_count": null,
      "outputs": []
    },
    {
      "cell_type": "code",
      "metadata": {
        "id": "CH_c3ahmuxCt",
        "colab_type": "code",
        "colab": {}
      },
      "source": [
        "fig, ax = plt.subplots(1,1,figsize=(10,10))\n",
        "img = plt.imread('mapa-do-brasil-estados-branco-comlegenda.jpg')\n",
        "ax.imshow(img, extent=[casos_novos_municipios.longitude.min(),casos_novos_municipios.longitude.max(),\n",
        "                      casos_novos_municipios.latitude.min(),casos_novos_municipios.latitude.max()])\n",
        "ax.scatter(casos_novos_municipios.longitude[:100],casos_novos_municipios.latitude[:100], s=casos_novos_municipios[criterio][:100]*300, alpha=0.5)\n",
        "ax.set_aspect(1)\n"
      ],
      "execution_count": null,
      "outputs": []
    },
    {
      "cell_type": "code",
      "metadata": {
        "id": "okc3tFTDreEQ",
        "colab_type": "code",
        "colab": {}
      },
      "source": [
        "import folium"
      ],
      "execution_count": null,
      "outputs": []
    },
    {
      "cell_type": "code",
      "metadata": {
        "id": "uZ4-J3ixv1Re",
        "colab_type": "code",
        "colab": {}
      },
      "source": [
        "mapa = folium.Map(location=[-15.788497,-47.879873], zoom_start=4)\n",
        "for la,lo in zip( casos_novos_municipios.latitude[:100], casos_novos_municipios.longitude[:100] ):\n",
        "    folium.Marker([la, lo]).add_to(mapa)\n",
        "display(mapa)\n"
      ],
      "execution_count": null,
      "outputs": []
    },
    {
      "cell_type": "code",
      "metadata": {
        "id": "5Zhe0ylpwBZP",
        "colab_type": "code",
        "colab": {}
      },
      "source": [
        "mapa = folium.Map(location=[-15.788497,-47.879873], zoom_start=4)\n",
        "for la,lo,rd in zip( casos_novos_municipios.latitude[:100], casos_novos_municipios.longitude[:100], \n",
        "                    casos_novos_municipios[criterio][:100] ):\n",
        "    folium.CircleMarker([la, lo],radius=rd*10).add_to(mapa)\n",
        "display(mapa)\n"
      ],
      "execution_count": null,
      "outputs": []
    },
    {
      "cell_type": "code",
      "metadata": {
        "id": "GvzeLse85_uT",
        "colab_type": "code",
        "colab": {}
      },
      "source": [
        ""
      ],
      "execution_count": null,
      "outputs": []
    }
  ]
}