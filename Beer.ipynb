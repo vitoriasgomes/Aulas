{
  "nbformat": 4,
  "nbformat_minor": 0,
  "metadata": {
    "kernelspec": {
      "display_name": "Python 3",
      "language": "python",
      "name": "python3"
    },
    "language_info": {
      "codemirror_mode": {
        "name": "ipython",
        "version": 3
      },
      "file_extension": ".py",
      "mimetype": "text/x-python",
      "name": "python",
      "nbconvert_exporter": "python",
      "pygments_lexer": "ipython3",
      "version": "3.7.6"
    },
    "colab": {
      "name": "Beer.ipynb",
      "provenance": [],
      "include_colab_link": true
    }
  },
  "cells": [
    {
      "cell_type": "markdown",
      "metadata": {
        "id": "view-in-github",
        "colab_type": "text"
      },
      "source": [
        "<a href=\"https://colab.research.google.com/github/vitoriasgomes/Aulas/blob/master/Beer.ipynb\" target=\"_parent\"><img src=\"https://colab.research.google.com/assets/colab-badge.svg\" alt=\"Open In Colab\"/></a>"
      ]
    },
    {
      "cell_type": "markdown",
      "metadata": {
        "id": "kxEkGY4N54W6",
        "colab_type": "text"
      },
      "source": [
        "# Em busca da melhor cerveja "
      ]
    },
    {
      "cell_type": "code",
      "metadata": {
        "id": "rwpTIV5ns_e1",
        "colab_type": "code",
        "colab": {}
      },
      "source": [
        "import pandas as pd\n",
        "import matplotlib.pyplot as plt"
      ],
      "execution_count": null,
      "outputs": []
    },
    {
      "cell_type": "code",
      "metadata": {
        "id": "ahhHeulY5WG3",
        "colab_type": "code",
        "colab": {}
      },
      "source": [
        "from google.colab import drive\n",
        "drive.mount('/content/drive')"
      ],
      "execution_count": null,
      "outputs": []
    },
    {
      "cell_type": "markdown",
      "metadata": {
        "id": "nto1al6B59VN",
        "colab_type": "text"
      },
      "source": [
        "## Ler o arquivo do Beer Advocate"
      ]
    },
    {
      "cell_type": "code",
      "metadata": {
        "id": "QZpaVWsxs_e6",
        "colab_type": "code",
        "colab": {}
      },
      "source": [
        "beers = pd.read_csv('/content/drive/My Drive/Colab Notebooks/beer_reviews.csv')"
      ],
      "execution_count": null,
      "outputs": []
    },
    {
      "cell_type": "code",
      "metadata": {
        "scrolled": true,
        "id": "rLA0aPVZs_e_",
        "colab_type": "code",
        "colab": {}
      },
      "source": [
        "beers.head()"
      ],
      "execution_count": null,
      "outputs": []
    },
    {
      "cell_type": "markdown",
      "metadata": {
        "id": "inj7uMn753Ra",
        "colab_type": "text"
      },
      "source": [
        ""
      ]
    },
    {
      "cell_type": "markdown",
      "metadata": {
        "id": "1CwnZ6E46DQO",
        "colab_type": "text"
      },
      "source": [
        "## Verifica o conteúdo e parâmetros"
      ]
    },
    {
      "cell_type": "code",
      "metadata": {
        "id": "Jf7K3wRNs_fF",
        "colab_type": "code",
        "colab": {}
      },
      "source": [
        "beers.columns"
      ],
      "execution_count": null,
      "outputs": []
    },
    {
      "cell_type": "markdown",
      "metadata": {
        "id": "MrRuVNfj6HsM",
        "colab_type": "text"
      },
      "source": [
        "## Tem Heineken ? "
      ]
    },
    {
      "cell_type": "code",
      "metadata": {
        "id": "WneLoo6Ws_fI",
        "colab_type": "code",
        "colab": {}
      },
      "source": [
        "beers[beers.beer_name.str.contains('Heineken')]"
      ],
      "execution_count": null,
      "outputs": []
    },
    {
      "cell_type": "code",
      "metadata": {
        "id": "oa4usxfwDPKh",
        "colab_type": "code",
        "colab": {}
      },
      "source": [
        "beers.info()"
      ],
      "execution_count": null,
      "outputs": []
    },
    {
      "cell_type": "markdown",
      "metadata": {
        "id": "nxJgJFKd6ORT",
        "colab_type": "text"
      },
      "source": [
        "## As mais avaliadas "
      ]
    },
    {
      "cell_type": "code",
      "metadata": {
        "id": "7cLqVU5bBAej",
        "colab_type": "code",
        "colab": {}
      },
      "source": [
        "beers.groupby('beer_name').review_overall.count()"
      ],
      "execution_count": null,
      "outputs": []
    },
    {
      "cell_type": "code",
      "metadata": {
        "id": "vLJqjsDus_fL",
        "colab_type": "code",
        "colab": {}
      },
      "source": [
        "mais_avaliadas = beers.groupby('beer_name').review_overall.count().sort_values()[-30:]\n",
        "mais_avaliadas"
      ],
      "execution_count": null,
      "outputs": []
    },
    {
      "cell_type": "code",
      "metadata": {
        "id": "mW0-opOFs_fP",
        "colab_type": "code",
        "colab": {}
      },
      "source": [
        "plt.xkcd()\n",
        "ax = mais_avaliadas.plot(kind='bar',figsize=(15,8), color='goldenrod', fontsize=14)\n",
        "ax.set_title('Cervejas mais Avaliadas no Beer Advocate', family='fantasy', fontsize=20)\n",
        "ax.set_xlabel('Cerveja', fontsize=18)\n",
        "ax.set_ylabel('Reviews', fontsize=18)"
      ],
      "execution_count": null,
      "outputs": []
    },
    {
      "cell_type": "code",
      "metadata": {
        "id": "TC8kgfH7KWbp",
        "colab_type": "code",
        "colab": {}
      },
      "source": [
        "beers[['beer_name','beer_style','review_overall']].head()"
      ],
      "execution_count": null,
      "outputs": []
    },
    {
      "cell_type": "code",
      "metadata": {
        "id": "VMnj2Pybs_fU",
        "colab_type": "code",
        "colab": {}
      },
      "source": [
        "melhor_avaliadas = beers.groupby('beer_name').review_overall.mean().sort_values()\n",
        "melhor_avaliadas"
      ],
      "execution_count": null,
      "outputs": []
    },
    {
      "cell_type": "code",
      "metadata": {
        "id": "jo9VnJ41s_fX",
        "colab_type": "code",
        "colab": {}
      },
      "source": [
        "beers[beers.beer_name.str.contains('Belgian Country Pale Ale')]"
      ],
      "execution_count": null,
      "outputs": []
    },
    {
      "cell_type": "code",
      "metadata": {
        "id": "N9O7nw4Ps_fa",
        "colab_type": "code",
        "colab": {}
      },
      "source": [
        "as_top = beers.groupby('beer_name').filter(lambda x: x.review_overall.count() > 100)"
      ],
      "execution_count": null,
      "outputs": []
    },
    {
      "cell_type": "code",
      "metadata": {
        "id": "X6EuHIAIGQGG",
        "colab_type": "code",
        "colab": {}
      },
      "source": [
        "as_top"
      ],
      "execution_count": null,
      "outputs": []
    },
    {
      "cell_type": "code",
      "metadata": {
        "id": "Kmfi9_wWs_fd",
        "colab_type": "code",
        "colab": {}
      },
      "source": [
        "as_top.groupby('beer_name').review_overall.mean().sort_values()[-30:]"
      ],
      "execution_count": null,
      "outputs": []
    },
    {
      "cell_type": "code",
      "metadata": {
        "id": "u0dGTgyMs_fi",
        "colab_type": "code",
        "colab": {}
      },
      "source": [
        "beers[beers.beer_name.str.contains('Citra DIPA')].brewery_name.unique()"
      ],
      "execution_count": null,
      "outputs": []
    },
    {
      "cell_type": "code",
      "metadata": {
        "id": "qG2dPIupMF1w",
        "colab_type": "code",
        "colab": {}
      },
      "source": [
        "beers[beers.brewery_name.str.contains('Kern River', na=False)].beer_name.unique()"
      ],
      "execution_count": null,
      "outputs": []
    },
    {
      "cell_type": "code",
      "metadata": {
        "id": "qPojLEI2s_fm",
        "colab_type": "code",
        "colab": {}
      },
      "source": [
        "top100 = as_top.groupby('beer_name').review_overall.mean().sort_values()[-100:].index.to_list()\n",
        "top100"
      ],
      "execution_count": null,
      "outputs": []
    },
    {
      "cell_type": "code",
      "metadata": {
        "id": "_0Z8XAdjKHo0",
        "colab_type": "code",
        "colab": {}
      },
      "source": [
        "top100[::-1].index('Supplication')"
      ],
      "execution_count": null,
      "outputs": []
    },
    {
      "cell_type": "markdown",
      "metadata": {
        "id": "tGP1Z_8JSN8B",
        "colab_type": "text"
      },
      "source": [
        "[Preço da Cantillon Brabantiae](https://www.mybeercollectibles.com/browse/?keywords=Cantillon+brabantiae&sort=price_desc)"
      ]
    },
    {
      "cell_type": "code",
      "metadata": {
        "id": "3X4Lbwhns_fp",
        "colab_type": "code",
        "colab": {}
      },
      "source": [
        "top100df = beers.loc[beers.beer_name.isin(top100)][['beer_name','beer_style','review_overall']]\n",
        "top100df"
      ],
      "execution_count": null,
      "outputs": []
    },
    {
      "cell_type": "code",
      "metadata": {
        "id": "5wB1xZPOs_fs",
        "colab_type": "code",
        "colab": {}
      },
      "source": [
        "top100df.groupby(['beer_name','beer_style']).count()"
      ],
      "execution_count": null,
      "outputs": []
    },
    {
      "cell_type": "code",
      "metadata": {
        "id": "Nha3444ls_fw",
        "colab_type": "code",
        "colab": {}
      },
      "source": [
        "top100df.groupby(['beer_name','beer_style']).count().groupby('beer_style').size().sort_values().plot(kind='bar',figsize=(15,6))"
      ],
      "execution_count": null,
      "outputs": []
    },
    {
      "cell_type": "markdown",
      "metadata": {
        "id": "HDyBcEFys_fz",
        "colab_type": "text"
      },
      "source": [
        "## American IPA é o melhor estilo ?"
      ]
    },
    {
      "cell_type": "code",
      "metadata": {
        "id": "58rF2BSVs_f0",
        "colab_type": "code",
        "colab": {}
      },
      "source": [
        "selecao_estilos = beers.groupby('beer_style')\n",
        "selecao_estilos.count()"
      ],
      "execution_count": null,
      "outputs": []
    },
    {
      "cell_type": "code",
      "metadata": {
        "id": "3y3UoXbrMEFf",
        "colab_type": "code",
        "colab": {}
      },
      "source": [
        "selecao_estilos.beer_name.count().sort_values()[-10:]"
      ],
      "execution_count": null,
      "outputs": []
    },
    {
      "cell_type": "code",
      "metadata": {
        "id": "73Nk8fB6LOZS",
        "colab_type": "code",
        "colab": {}
      },
      "source": [
        "selecao_estilos.review_overall.count().sort_values()[-10:]"
      ],
      "execution_count": null,
      "outputs": []
    },
    {
      "cell_type": "code",
      "metadata": {
        "id": "L3qBevztlFDc",
        "colab_type": "code",
        "colab": {}
      },
      "source": [
        "selecao_estilos.aggregate(['mean','std']).review_overall"
      ],
      "execution_count": null,
      "outputs": []
    },
    {
      "cell_type": "code",
      "metadata": {
        "id": "Bhbuxp43Wl8A",
        "colab_type": "code",
        "colab": {}
      },
      "source": [
        "selecao_estilos.aggregate(['mean','std']).review_overall.sort_values(by=\"mean\")[-20:].plot(kind='barh',title='Notas por estilo', y=\"mean\", xerr=\"std\",figsize=(10,10))"
      ],
      "execution_count": null,
      "outputs": []
    },
    {
      "cell_type": "code",
      "metadata": {
        "id": "8vUs4T7nmVXa",
        "colab_type": "code",
        "colab": {}
      },
      "source": [
        ""
      ],
      "execution_count": null,
      "outputs": []
    }
  ]
}