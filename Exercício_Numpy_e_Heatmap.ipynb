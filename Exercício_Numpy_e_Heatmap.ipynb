{
  "nbformat": 4,
  "nbformat_minor": 0,
  "metadata": {
    "colab": {
      "name": "Exercício Numpy e Heatmap",
      "provenance": [],
      "authorship_tag": "ABX9TyPpVAqVI9f2glEeK+8i2hsb",
      "include_colab_link": true
    },
    "kernelspec": {
      "name": "python3",
      "display_name": "Python 3"
    }
  },
  "cells": [
    {
      "cell_type": "markdown",
      "metadata": {
        "id": "view-in-github",
        "colab_type": "text"
      },
      "source": [
        "<a href=\"https://colab.research.google.com/github/vitoriasgomes/Aulas/blob/master/Exerc%C3%ADcio_Numpy_e_Heatmap.ipynb\" target=\"_parent\"><img src=\"https://colab.research.google.com/assets/colab-badge.svg\" alt=\"Open In Colab\"/></a>"
      ]
    },
    {
      "cell_type": "markdown",
      "metadata": {
        "id": "7il67u4krVDx",
        "colab_type": "text"
      },
      "source": [
        "#Numpy e Heatmap\n"
      ]
    },
    {
      "cell_type": "markdown",
      "metadata": {
        "id": "wpko6moUrZjh",
        "colab_type": "text"
      },
      "source": [
        "##Crie um np.array de dimensões 10x10. O valor de cada elemento deve ser o quadrado da distância ao (0,0), isto é, a[i][j] = i² + j². Plote o array usando imshow e um colormap à sua escolha..\n"
      ]
    },
    {
      "cell_type": "code",
      "metadata": {
        "id": "jPJmcNCSrtb7",
        "colab_type": "code",
        "colab": {}
      },
      "source": [
        "import numpy as np"
      ],
      "execution_count": 1,
      "outputs": []
    },
    {
      "cell_type": "code",
      "metadata": {
        "id": "tl-nC3jisgvq",
        "colab_type": "code",
        "colab": {
          "base_uri": "https://localhost:8080/",
          "height": 187
        },
        "outputId": "a471984d-50de-46f2-9cc7-e09ad5abea60"
      },
      "source": [
        "matriz = np.zeros([10, 10])\n",
        "for j in range(10):\n",
        "  for i in range(10):\n",
        "    matriz[i][j] = (i**2 + j**2)\n",
        "matriz"
      ],
      "execution_count": 53,
      "outputs": [
        {
          "output_type": "execute_result",
          "data": {
            "text/plain": [
              "array([[  0.,   1.,   4.,   9.,  16.,  25.,  36.,  49.,  64.,  81.],\n",
              "       [  1.,   2.,   5.,  10.,  17.,  26.,  37.,  50.,  65.,  82.],\n",
              "       [  4.,   5.,   8.,  13.,  20.,  29.,  40.,  53.,  68.,  85.],\n",
              "       [  9.,  10.,  13.,  18.,  25.,  34.,  45.,  58.,  73.,  90.],\n",
              "       [ 16.,  17.,  20.,  25.,  32.,  41.,  52.,  65.,  80.,  97.],\n",
              "       [ 25.,  26.,  29.,  34.,  41.,  50.,  61.,  74.,  89., 106.],\n",
              "       [ 36.,  37.,  40.,  45.,  52.,  61.,  72.,  85., 100., 117.],\n",
              "       [ 49.,  50.,  53.,  58.,  65.,  74.,  85.,  98., 113., 130.],\n",
              "       [ 64.,  65.,  68.,  73.,  80.,  89., 100., 113., 128., 145.],\n",
              "       [ 81.,  82.,  85.,  90.,  97., 106., 117., 130., 145., 162.]])"
            ]
          },
          "metadata": {
            "tags": []
          },
          "execution_count": 53
        }
      ]
    },
    {
      "cell_type": "code",
      "metadata": {
        "id": "JYPOG7S7-nmT",
        "colab_type": "code",
        "colab": {
          "base_uri": "https://localhost:8080/",
          "height": 284
        },
        "outputId": "5ce22566-bcea-4b70-f3c2-117c619df9fb"
      },
      "source": [
        "import matplotlib.pyplot as plt\n",
        "\n",
        "plt.imshow(matriz)\n",
        "plt.savefig(\"heatmapmatriz.pdf\")\n",
        "plt.colorbar()"
      ],
      "execution_count": 59,
      "outputs": [
        {
          "output_type": "execute_result",
          "data": {
            "text/plain": [
              "<matplotlib.colorbar.Colorbar at 0x7f523115bb38>"
            ]
          },
          "metadata": {
            "tags": []
          },
          "execution_count": 59
        },
        {
          "output_type": "display_data",
          "data": {
            "image/png": "[encoded data removed]",
            "text/plain": [
              "<Figure size 432x288 with 2 Axes>"
            ]
          },
          "metadata": {
            "tags": [],
            "needs_background": "light"
          }
        }
      ]
    }
  ]
}