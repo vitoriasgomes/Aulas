{
  "nbformat": 4,
  "nbformat_minor": 0,
  "metadata": {
    "colab": {
      "name": "Histograma.ipynb",
      "provenance": [],
      "authorship_tag": "ABX9TyMbu0r5Yy8bqBS8zfiubu4W",
      "include_colab_link": true
    },
    "kernelspec": {
      "name": "python3",
      "display_name": "Python 3"
    }
  },
  "cells": [
    {
      "cell_type": "markdown",
      "metadata": {
        "id": "view-in-github",
        "colab_type": "text"
      },
      "source": [
        "<a href=\"https://colab.research.google.com/github/vitoriasgomes/Aulas/blob/master/Histograma.ipynb\" target=\"_parent\"><img src=\"https://colab.research.google.com/assets/colab-badge.svg\" alt=\"Open In Colab\"/></a>"
      ]
    },
    {
      "cell_type": "code",
      "metadata": {
        "id": "LGaKQtq8zti8",
        "colab_type": "code",
        "colab": {}
      },
      "source": [
        "import pandas as pd\n",
        "import numpy as np\n",
        "import matplotlib.pyplot as plt"
      ],
      "execution_count": 1,
      "outputs": []
    },
    {
      "cell_type": "code",
      "metadata": {
        "id": "2sO8OCgM43D-",
        "colab_type": "code",
        "colab": {}
      },
      "source": [
        "from google.colab import drive\n",
        "drive.mount('/gdrive')\n",
        "%cd /gdrive"
      ],
      "execution_count": null,
      "outputs": []
    },
    {
      "cell_type": "code",
      "metadata": {
        "id": "oHfJ0AZU5UEj",
        "colab_type": "code",
        "colab": {
          "base_uri": "https://localhost:8080/",
          "height": 34
        },
        "outputId": "fcabf01b-e256-430b-d6ca-6d478eec05b2"
      },
      "source": [
        "cd \"My Drive/Colab Notebooks\""
      ],
      "execution_count": 11,
      "outputs": [
        {
          "output_type": "stream",
          "text": [
            "/gdrive/My Drive/Colab Notebooks\n"
          ],
          "name": "stdout"
        }
      ]
    },
    {
      "cell_type": "code",
      "metadata": {
        "id": "rSKU7o-95aYX",
        "colab_type": "code",
        "colab": {}
      },
      "source": [
        "!ls *csv"
      ],
      "execution_count": null,
      "outputs": []
    },
    {
      "cell_type": "code",
      "metadata": {
        "id": "MATDESpm6Uxe",
        "colab_type": "code",
        "colab": {}
      },
      "source": [
        "!cat 'Minicurso de Visualização de Dados (respostas) - Respostas ao formulário 1.csv'"
      ],
      "execution_count": null,
      "outputs": []
    },
    {
      "cell_type": "code",
      "metadata": {
        "id": "hbH87WjP7Adk",
        "colab_type": "code",
        "colab": {}
      },
      "source": [
        "formulario = pd.read_csv('Minicurso de Visualização de Dados (respostas) - Respostas ao formulário 1.csv')"
      ],
      "execution_count": 14,
      "outputs": []
    },
    {
      "cell_type": "code",
      "metadata": {
        "id": "WWB2I2nu7Dff",
        "colab_type": "code",
        "colab": {}
      },
      "source": [
        "formulario.head()"
      ],
      "execution_count": null,
      "outputs": []
    },
    {
      "cell_type": "code",
      "metadata": {
        "id": "385H_biL7lh3",
        "colab_type": "code",
        "colab": {
          "base_uri": "https://localhost:8080/",
          "height": 301
        },
        "outputId": "c64be4a6-8179-450a-8229-7cb3f06ccc2e"
      },
      "source": [
        "formulario['Quantas linguagens você acha que domina ? '].hist(bins=15, color='green');\n",
        "plt.title('Linguagens dominadas pelos participantes', fontsize=22)\n",
        "plt.xlabel('Quantidade de linguagens', fontsize=13)\n",
        "plt.ylabel('Quantidade de participantes', fontsize=13)\n",
        "plt.tick_params(axis='x', length=0, which='both')\n",
        "plt.savefig(\"grafico.pdf\")"
      ],
      "execution_count": 103,
      "outputs": [
        {
          "output_type": "display_data",
          "data": {
            "image/png": "[encoded data removed]",
            "text/plain": [
              "<Figure size 432x288 with 1 Axes>"
            ]
          },
          "metadata": {
            "tags": [],
            "needs_background": "light"
          }
        }
      ]
    }
  ]
}