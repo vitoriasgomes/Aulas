{
  "nbformat": 4,
  "nbformat_minor": 0,
  "metadata": {
    "colab": {
      "name": "Copy of Python_02.ipynb",
      "provenance": [],
      "private_outputs": true,
      "toc_visible": true,
      "include_colab_link": true
    },
    "kernelspec": {
      "name": "python3",
      "display_name": "Python 3"
    }
  },
  "cells": [
    {
      "cell_type": "markdown",
      "metadata": {
        "id": "view-in-github",
        "colab_type": "text"
      },
      "source": [
        "<a href=\"https://colab.research.google.com/github/vitoriasgomes/Aulas/blob/master/Copy_of_Python_02.ipynb\" target=\"_parent\"><img src=\"https://colab.research.google.com/assets/colab-badge.svg\" alt=\"Open In Colab\"/></a>"
      ]
    },
    {
      "cell_type": "markdown",
      "metadata": {
        "id": "aG9Dz8zLk_5O",
        "colab_type": "text"
      },
      "source": [
        "# Estrutura de dados em Python\n",
        "\n",
        "\n"
      ]
    },
    {
      "cell_type": "markdown",
      "metadata": {
        "id": "zJUZq_mluHJl",
        "colab_type": "text"
      },
      "source": [
        "## Listas"
      ]
    },
    {
      "cell_type": "code",
      "metadata": {
        "id": "xcVV6XiOlpUN",
        "colab_type": "code",
        "colab": {}
      },
      "source": [
        "ataque = [\"Arrascaeta\", \"Bruno Henrique\", \"Gabigol\"]"
      ],
      "execution_count": null,
      "outputs": []
    },
    {
      "cell_type": "code",
      "metadata": {
        "id": "X8PIciJllv8c",
        "colab_type": "code",
        "colab": {}
      },
      "source": [
        "ataque[0]"
      ],
      "execution_count": null,
      "outputs": []
    },
    {
      "cell_type": "code",
      "metadata": {
        "id": "g5uNIPHelyL9",
        "colab_type": "code",
        "colab": {}
      },
      "source": [
        "ataque[2]"
      ],
      "execution_count": null,
      "outputs": []
    },
    {
      "cell_type": "markdown",
      "metadata": {
        "id": "oHsJLg3Dl2b-",
        "colab_type": "text"
      },
      "source": [
        "\n",
        "\n",
        "* índice inteiro\n",
        "* são mutáveis\n",
        "\n"
      ]
    },
    {
      "cell_type": "code",
      "metadata": {
        "id": "bDtKLHnamAAY",
        "colab_type": "code",
        "colab": {}
      },
      "source": [
        "id(ataque)"
      ],
      "execution_count": null,
      "outputs": []
    },
    {
      "cell_type": "code",
      "metadata": {
        "id": "FAfBK5gnmCU8",
        "colab_type": "code",
        "colab": {}
      },
      "source": [
        "ataque[0] = \"Éverton Ribeiro\""
      ],
      "execution_count": null,
      "outputs": []
    },
    {
      "cell_type": "code",
      "metadata": {
        "id": "oczG3NSkmHrx",
        "colab_type": "code",
        "colab": {}
      },
      "source": [
        "ataque"
      ],
      "execution_count": null,
      "outputs": []
    },
    {
      "cell_type": "code",
      "metadata": {
        "id": "uYunkPlfmInF",
        "colab_type": "code",
        "colab": {}
      },
      "source": [
        "id(ataque)"
      ],
      "execution_count": null,
      "outputs": []
    },
    {
      "cell_type": "code",
      "metadata": {
        "id": "46g0OV06mL5f",
        "colab_type": "code",
        "colab": {}
      },
      "source": [
        "ataque = ataque + \"Michael\""
      ],
      "execution_count": null,
      "outputs": []
    },
    {
      "cell_type": "code",
      "metadata": {
        "id": "nbbS7Imnnqku",
        "colab_type": "code",
        "colab": {}
      },
      "source": [
        "ataque = ataque + [\"Michael\"]\n",
        "ataque"
      ],
      "execution_count": null,
      "outputs": []
    },
    {
      "cell_type": "code",
      "metadata": {
        "id": "VX8ZD6Kfn0Y7",
        "colab_type": "code",
        "colab": {}
      },
      "source": [
        "ataque = ataque - [\"Michael\"]"
      ],
      "execution_count": null,
      "outputs": []
    },
    {
      "cell_type": "code",
      "metadata": {
        "id": "cIQW6fxhn-6G",
        "colab_type": "code",
        "colab": {}
      },
      "source": [
        "ataque[-1]"
      ],
      "execution_count": null,
      "outputs": []
    },
    {
      "cell_type": "code",
      "metadata": {
        "id": "c3nOtdG7ow9n",
        "colab_type": "code",
        "colab": {}
      },
      "source": [
        "len(ataque)"
      ],
      "execution_count": null,
      "outputs": []
    },
    {
      "cell_type": "code",
      "metadata": {
        "id": "E8ZdByMzoDlN",
        "colab_type": "code",
        "colab": {}
      },
      "source": [
        "ataque.append(\"Pedro\")\n",
        "ataque"
      ],
      "execution_count": null,
      "outputs": []
    },
    {
      "cell_type": "code",
      "metadata": {
        "id": "HyodkYm9o-t9",
        "colab_type": "code",
        "colab": {}
      },
      "source": [
        "gols = [\"Bruno Henrique\"]"
      ],
      "execution_count": null,
      "outputs": []
    },
    {
      "cell_type": "code",
      "metadata": {
        "id": "NOV8qruWpQvJ",
        "colab_type": "code",
        "colab": {}
      },
      "source": [
        "gols*2"
      ],
      "execution_count": null,
      "outputs": []
    },
    {
      "cell_type": "code",
      "metadata": {
        "id": "_6SXgpbJpVd2",
        "colab_type": "code",
        "colab": {}
      },
      "source": [
        "ataque.remove(\"Gabigol\")"
      ],
      "execution_count": null,
      "outputs": []
    },
    {
      "cell_type": "code",
      "metadata": {
        "id": "jIf0ouc3poQs",
        "colab_type": "code",
        "colab": {}
      },
      "source": [
        "ataque.remove(\"Vitinho\")"
      ],
      "execution_count": null,
      "outputs": []
    },
    {
      "cell_type": "code",
      "metadata": {
        "id": "UmvyuaSUpqs6",
        "colab_type": "code",
        "colab": {}
      },
      "source": [
        "del ataque[0]\n",
        "ataque"
      ],
      "execution_count": null,
      "outputs": []
    },
    {
      "cell_type": "code",
      "metadata": {
        "id": "Zz69sfh8qmWo",
        "colab_type": "code",
        "colab": {}
      },
      "source": [
        "ataque.insert(2,\"Vitinho\")\n",
        "ataque"
      ],
      "execution_count": null,
      "outputs": []
    },
    {
      "cell_type": "code",
      "metadata": {
        "id": "P2oMldv1srMB",
        "colab_type": "code",
        "colab": {}
      },
      "source": [
        "camisas_do_ataque = [ \"Gabigol\", 9, \"Éverton Ribeiro\", 7, \"Bruno Henrique\", 27]"
      ],
      "execution_count": null,
      "outputs": []
    },
    {
      "cell_type": "code",
      "metadata": {
        "id": "Hp_nr8hutMie",
        "colab_type": "code",
        "colab": {}
      },
      "source": [
        "ataque_titular = [ \"Arrascaeta\", \"Gabigol\", \"BH\"]\n",
        "ataque_reserva = [ \"Michael\", \"Pedro\", \"Vitinho\"]\n",
        "ataques = [ataque_titular, ataque_reserva]\n",
        "ataques"
      ],
      "execution_count": null,
      "outputs": []
    },
    {
      "cell_type": "code",
      "metadata": {
        "id": "Id6VeqZTtyfe",
        "colab_type": "code",
        "colab": {}
      },
      "source": [
        "ataque_reserva[2] = \"Pedro Rocha\"\n",
        "ataques"
      ],
      "execution_count": null,
      "outputs": []
    },
    {
      "cell_type": "markdown",
      "metadata": {
        "id": "3bSz_zKfcMAn",
        "colab_type": "text"
      },
      "source": [
        "Observe que a mudança em `ataque_reserva` é refletida em `ataques`\n"
      ]
    },
    {
      "cell_type": "code",
      "metadata": {
        "id": "7m2tG27gqm_j",
        "colab_type": "code",
        "colab": {}
      },
      "source": [
        "ataque_hoje = ataque_titular\n",
        "ataque_titular[1] = \"Pedro\"\n",
        "\n",
        "ataque_hoje == ataque_titular "
      ],
      "execution_count": null,
      "outputs": []
    },
    {
      "cell_type": "code",
      "metadata": {
        "id": "qEkKecMGrcPQ",
        "colab_type": "code",
        "colab": {}
      },
      "source": [
        "ataque_titular"
      ],
      "execution_count": null,
      "outputs": []
    },
    {
      "cell_type": "code",
      "metadata": {
        "id": "xs7Glgo0q8oN",
        "colab_type": "code",
        "colab": {}
      },
      "source": [
        "ataque_hoje = ataque_titular.copy()\n",
        "ataque_titular[1] = \"Gabigol\"\n",
        "ataque_hoje"
      ],
      "execution_count": null,
      "outputs": []
    },
    {
      "cell_type": "code",
      "metadata": {
        "id": "ETbMtT1Wrj71",
        "colab_type": "code",
        "colab": {}
      },
      "source": [
        "ataque_titular"
      ],
      "execution_count": null,
      "outputs": []
    },
    {
      "cell_type": "markdown",
      "metadata": {
        "id": "NaQUMqRVsA1O",
        "colab_type": "text"
      },
      "source": [
        "### Propriedades \n",
        "\n",
        "\n",
        "*   Coleção de dados\n",
        "*   Tem índices inteiros, a ordem importa\n",
        "*   Podem crescer, mudar ou diminuir\n",
        "*   Podem ser mistas\n",
        "\n"
      ]
    },
    {
      "cell_type": "markdown",
      "metadata": {
        "id": "GG559HNwuMFc",
        "colab_type": "text"
      },
      "source": [
        "\n",
        "\n",
        "---\n",
        "\n",
        "\n",
        "\n",
        "---\n",
        "\n"
      ]
    },
    {
      "cell_type": "markdown",
      "metadata": {
        "id": "gdwBdB9srJGh",
        "colab_type": "text"
      },
      "source": [
        "### Métodos\n",
        "\n",
        "Funções definidas para uso em uma classe\n",
        "\n",
        "\n",
        "\n",
        "*   .append( )\n",
        "*   .remove( )\n",
        "\n"
      ]
    },
    {
      "cell_type": "code",
      "metadata": {
        "id": "r9Z2O7p9uhVX",
        "colab_type": "code",
        "colab": {}
      },
      "source": [
        "goleiros.append(\"Diego Alves\")"
      ],
      "execution_count": null,
      "outputs": []
    },
    {
      "cell_type": "code",
      "metadata": {
        "id": "nDr8onp6vRK0",
        "colab_type": "code",
        "colab": {}
      },
      "source": [
        "goleiros = []\n",
        "goleiros.append(\"Diego Alves\")"
      ],
      "execution_count": null,
      "outputs": []
    },
    {
      "cell_type": "code",
      "metadata": {
        "id": "wyBayhiHvbf1",
        "colab_type": "code",
        "colab": {}
      },
      "source": [
        "gols = [ 2,0,1,0,1,2]"
      ],
      "execution_count": null,
      "outputs": []
    },
    {
      "cell_type": "code",
      "metadata": {
        "id": "QRYuDBo5v5ka",
        "colab_type": "code",
        "colab": {}
      },
      "source": [
        "dir(gols)"
      ],
      "execution_count": null,
      "outputs": []
    },
    {
      "cell_type": "code",
      "metadata": {
        "id": "7uWM66uwwSPI",
        "colab_type": "code",
        "colab": {}
      },
      "source": [
        "ataque"
      ],
      "execution_count": null,
      "outputs": []
    },
    {
      "cell_type": "code",
      "metadata": {
        "id": "-whm8VuNwYa5",
        "colab_type": "code",
        "colab": {}
      },
      "source": [
        "ataque.sort()"
      ],
      "execution_count": null,
      "outputs": []
    },
    {
      "cell_type": "code",
      "metadata": {
        "id": "PXmsll4VwaMC",
        "colab_type": "code",
        "colab": {}
      },
      "source": [
        "ataque"
      ],
      "execution_count": null,
      "outputs": []
    },
    {
      "cell_type": "code",
      "metadata": {
        "id": "383Mwlh5wb4N",
        "colab_type": "code",
        "colab": {}
      },
      "source": [
        "ataque.pop()\n",
        "ataque"
      ],
      "execution_count": null,
      "outputs": []
    },
    {
      "cell_type": "code",
      "metadata": {
        "id": "XrbuTk0cw4k2",
        "colab_type": "code",
        "colab": {}
      },
      "source": [
        "ataque.count(\"Pedro\")"
      ],
      "execution_count": null,
      "outputs": []
    },
    {
      "cell_type": "code",
      "metadata": {
        "id": "k_qoSoukxBDR",
        "colab_type": "code",
        "colab": {}
      },
      "source": [
        "ataques"
      ],
      "execution_count": null,
      "outputs": []
    },
    {
      "cell_type": "code",
      "metadata": {
        "id": "0D0kMXKzxNn1",
        "colab_type": "code",
        "colab": {}
      },
      "source": [
        "\"Gabigol\" in ataque_titular"
      ],
      "execution_count": null,
      "outputs": []
    },
    {
      "cell_type": "code",
      "metadata": {
        "id": "DMmUB8yjxYRh",
        "colab_type": "code",
        "colab": {}
      },
      "source": [
        "\"Gabigol\" in ataques"
      ],
      "execution_count": null,
      "outputs": []
    },
    {
      "cell_type": "code",
      "metadata": {
        "id": "Z4kWAN-YxccO",
        "colab_type": "code",
        "colab": {}
      },
      "source": [
        "['Arrascaeta', 'Gabigol', 'BH'] in ataques"
      ],
      "execution_count": null,
      "outputs": []
    },
    {
      "cell_type": "code",
      "metadata": {
        "id": "OqsR0Na3y_ai",
        "colab_type": "code",
        "colab": {}
      },
      "source": [
        "ataques[0][1]"
      ],
      "execution_count": null,
      "outputs": []
    },
    {
      "cell_type": "code",
      "metadata": {
        "id": "oOO_61HLzK9j",
        "colab_type": "code",
        "colab": {}
      },
      "source": [
        "ataques[1].append(\"Vitinho\")"
      ],
      "execution_count": null,
      "outputs": []
    },
    {
      "cell_type": "code",
      "metadata": {
        "id": "km1dJOhlzQ1H",
        "colab_type": "code",
        "colab": {}
      },
      "source": [
        "ataques"
      ],
      "execution_count": null,
      "outputs": []
    },
    {
      "cell_type": "code",
      "metadata": {
        "id": "qQdpnNDvr4Jq",
        "colab_type": "code",
        "colab": {}
      },
      "source": [
        "ataque_hoje = ataque_reserva[:]\n",
        "ataque_reserva[2] = 'Vitinho'\n",
        "ataque_hoje"
      ],
      "execution_count": null,
      "outputs": []
    },
    {
      "cell_type": "markdown",
      "metadata": {
        "id": "NDPYX_f80F2q",
        "colab_type": "text"
      },
      "source": [
        "### Slicing"
      ]
    },
    {
      "cell_type": "code",
      "metadata": {
        "id": "tpLpuDZvzZfl",
        "colab_type": "code",
        "colab": {}
      },
      "source": [
        "década_de_20 = [20,21,22,23,24,25,26,27,28,29]"
      ],
      "execution_count": null,
      "outputs": []
    },
    {
      "cell_type": "code",
      "metadata": {
        "id": "01sQoHR4z5Eu",
        "colab_type": "code",
        "colab": {}
      },
      "source": [
        "década_de_20[1]"
      ],
      "execution_count": null,
      "outputs": []
    },
    {
      "cell_type": "code",
      "metadata": {
        "id": "-PJdnLi8zznM",
        "colab_type": "code",
        "colab": {}
      },
      "source": [
        "década_de_20[-3]"
      ],
      "execution_count": null,
      "outputs": []
    },
    {
      "cell_type": "code",
      "metadata": {
        "id": "5YrOjGo8z-XE",
        "colab_type": "code",
        "colab": {}
      },
      "source": [
        "década_de_20[2:]"
      ],
      "execution_count": null,
      "outputs": []
    },
    {
      "cell_type": "code",
      "metadata": {
        "id": "ggrtG7px0Nhb",
        "colab_type": "code",
        "colab": {}
      },
      "source": [
        "década_de_20[2:5]"
      ],
      "execution_count": null,
      "outputs": []
    },
    {
      "cell_type": "code",
      "metadata": {
        "id": "27Kk1Rj70XEx",
        "colab_type": "code",
        "colab": {}
      },
      "source": [
        "década_de_20[3:]"
      ],
      "execution_count": null,
      "outputs": []
    },
    {
      "cell_type": "code",
      "metadata": {
        "id": "d5M9Vpi_0g7M",
        "colab_type": "code",
        "colab": {}
      },
      "source": [
        "década_de_20[:-1]"
      ],
      "execution_count": null,
      "outputs": []
    },
    {
      "cell_type": "markdown",
      "metadata": {
        "id": "cOAF78PzLc27",
        "colab_type": "text"
      },
      "source": [
        "## Gerando listas com `range`"
      ]
    },
    {
      "cell_type": "code",
      "metadata": {
        "id": "M-emBqym0n8L",
        "colab_type": "code",
        "colab": {}
      },
      "source": [
        "list(range(10))"
      ],
      "execution_count": null,
      "outputs": []
    },
    {
      "cell_type": "code",
      "metadata": {
        "id": "Kk4fZlcj0_pV",
        "colab_type": "code",
        "colab": {}
      },
      "source": [
        "list(range(9,-1,-1))"
      ],
      "execution_count": null,
      "outputs": []
    },
    {
      "cell_type": "markdown",
      "metadata": {
        "id": "SP_ylmMT1lN1",
        "colab_type": "text"
      },
      "source": [
        "# Enfim, um gráfico"
      ]
    },
    {
      "cell_type": "code",
      "metadata": {
        "id": "7Txb9WG15DUF",
        "colab_type": "code",
        "colab": {}
      },
      "source": [
        "import matplotlib.pyplot as plt\n",
        "\n",
        "x = list(range(10))\n",
        "y = list(range(10,0,-1))\n",
        "plt.plot(x,y,'ro')"
      ],
      "execution_count": null,
      "outputs": []
    },
    {
      "cell_type": "markdown",
      "metadata": {
        "id": "yX50fC2dZbzz",
        "colab_type": "text"
      },
      "source": [
        "[Documentação do Matplotlib](https://matplotlib.org/)"
      ]
    },
    {
      "cell_type": "code",
      "metadata": {
        "id": "_yMpP2J-5S2c",
        "colab_type": "code",
        "colab": {}
      },
      "source": [
        ""
      ],
      "execution_count": null,
      "outputs": []
    }
  ]
}