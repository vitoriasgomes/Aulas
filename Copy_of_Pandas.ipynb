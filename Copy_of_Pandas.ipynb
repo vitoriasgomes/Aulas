{
  "nbformat": 4,
  "nbformat_minor": 0,
  "metadata": {
    "colab": {
      "name": "Copy of Pandas.ipynb",
      "provenance": [],
      "private_outputs": true,
      "include_colab_link": true
    },
    "kernelspec": {
      "name": "python3",
      "display_name": "Python 3"
    }
  },
  "cells": [
    {
      "cell_type": "markdown",
      "metadata": {
        "id": "view-in-github",
        "colab_type": "text"
      },
      "source": [
        "<a href=\"https://colab.research.google.com/github/vitoriasgomes/Aulas/blob/master/Copy_of_Pandas.ipynb\" target=\"_parent\"><img src=\"https://colab.research.google.com/assets/colab-badge.svg\" alt=\"Open In Colab\"/></a>"
      ]
    },
    {
      "cell_type": "markdown",
      "metadata": {
        "id": "EGMoH3H55Vza",
        "colab_type": "text"
      },
      "source": [
        "# Pandas \n",
        "\n",
        "uma biblioteca ou pacote que é baseado no Numpy e SciPy e contém estruturas e funções para manipulação de dados. A versão atual é 1.0.5 e a documentação está disponível em [pandas documentation](https://pandas.pydata.org/pandas-docs/stable/). \n",
        "\n",
        "As duas principais estruturas do Pandas são `Series`e `DataFrame`.\n",
        "\n",
        "\n"
      ]
    },
    {
      "cell_type": "code",
      "metadata": {
        "id": "mktMVKZn6g3l",
        "colab_type": "code",
        "colab": {}
      },
      "source": [
        "import pandas as pd\n",
        "import numpy as np\n",
        "import matplotlib.pyplot as plt"
      ],
      "execution_count": null,
      "outputs": []
    },
    {
      "cell_type": "markdown",
      "metadata": {
        "id": "PLVJtiNsBzfF",
        "colab_type": "text"
      },
      "source": [
        "## Series"
      ]
    },
    {
      "cell_type": "code",
      "metadata": {
        "id": "q-wcTBqB6mhf",
        "colab_type": "code",
        "colab": {}
      },
      "source": [
        "s = pd.Series(np.linspace(0,1,num=10,endpoint=True))\n",
        "s"
      ],
      "execution_count": null,
      "outputs": []
    },
    {
      "cell_type": "markdown",
      "metadata": {
        "id": "rmPbr1uJ70WT",
        "colab_type": "text"
      },
      "source": [
        "`Series` são como `np.array`s unidimensionais, porém com um índice. "
      ]
    },
    {
      "cell_type": "code",
      "metadata": {
        "id": "iPmDzR3x6ys2",
        "colab_type": "code",
        "colab": {}
      },
      "source": [
        "s.index"
      ],
      "execution_count": null,
      "outputs": []
    },
    {
      "cell_type": "code",
      "metadata": {
        "id": "KEKFRyON9TFV",
        "colab_type": "code",
        "colab": {}
      },
      "source": [
        "s[3]"
      ],
      "execution_count": null,
      "outputs": []
    },
    {
      "cell_type": "code",
      "metadata": {
        "id": "Lv2W0QP49XHM",
        "colab_type": "code",
        "colab": {}
      },
      "source": [
        "s*4"
      ],
      "execution_count": null,
      "outputs": []
    },
    {
      "cell_type": "code",
      "metadata": {
        "id": "KxqDe-5y9a8r",
        "colab_type": "code",
        "colab": {}
      },
      "source": [
        "5 in s"
      ],
      "execution_count": null,
      "outputs": []
    },
    {
      "cell_type": "code",
      "metadata": {
        "id": "Bv5CA0uW9haI",
        "colab_type": "code",
        "colab": {}
      },
      "source": [
        "s_int = pd.Series(data=['Thadeu', 'Aquino', 'Huguenin'],\n",
        "                  index=['Visualização','Epidemias','Computação Quântica'])\n",
        "print(s_int)"
      ],
      "execution_count": null,
      "outputs": []
    },
    {
      "cell_type": "code",
      "metadata": {
        "id": "jjDVKhEPkOIc",
        "colab_type": "code",
        "colab": {}
      },
      "source": [
        "s_int['Epidemias']"
      ],
      "execution_count": null,
      "outputs": []
    },
    {
      "cell_type": "markdown",
      "metadata": {
        "id": "0T328XCr_Xnm",
        "colab_type": "text"
      },
      "source": [
        "## Dicionários"
      ]
    },
    {
      "cell_type": "code",
      "metadata": {
        "id": "rruTiIuq-W2b",
        "colab_type": "code",
        "colab": {}
      },
      "source": [
        "d = { 'Visualização': 'Thadeu',\n",
        "      'Epidemias': 'Aquino',\n",
        "      'Computação Quântica': 'Huguenin' }\n",
        "\n",
        "type(d)      "
      ],
      "execution_count": null,
      "outputs": []
    },
    {
      "cell_type": "code",
      "metadata": {
        "id": "gmJrTdMQ_t7G",
        "colab_type": "code",
        "colab": {}
      },
      "source": [
        "d.items()"
      ],
      "execution_count": null,
      "outputs": []
    },
    {
      "cell_type": "code",
      "metadata": {
        "id": "7pbJVWuw_9pv",
        "colab_type": "code",
        "colab": {}
      },
      "source": [
        "print(d.keys(),\"\\n\",d.values())"
      ],
      "execution_count": null,
      "outputs": []
    },
    {
      "cell_type": "code",
      "metadata": {
        "id": "NALd9KuYAo4Y",
        "colab_type": "code",
        "colab": {}
      },
      "source": [
        "d[0]"
      ],
      "execution_count": null,
      "outputs": []
    },
    {
      "cell_type": "code",
      "metadata": {
        "id": "1SGTLJDz_yRB",
        "colab_type": "code",
        "colab": {}
      },
      "source": [
        "minicursos = pd.Series(d)\n",
        "minicursos"
      ],
      "execution_count": null,
      "outputs": []
    },
    {
      "cell_type": "markdown",
      "metadata": {
        "id": "59NlmITp_4bi",
        "colab_type": "text"
      },
      "source": [
        "## DataFrame"
      ]
    },
    {
      "cell_type": "markdown",
      "metadata": {
        "id": "JUR0qPhxCL_b",
        "colab_type": "text"
      },
      "source": [
        "`DataFrame` é como um array bi-dimensional com rótulos"
      ]
    },
    {
      "cell_type": "code",
      "metadata": {
        "id": "fowCSlPXCC_A",
        "colab_type": "code",
        "colab": {}
      },
      "source": [
        "df = pd.DataFrame(minicursos,columns=['Professor'])"
      ],
      "execution_count": null,
      "outputs": []
    },
    {
      "cell_type": "code",
      "metadata": {
        "id": "dx95Cb5HCnYX",
        "colab_type": "code",
        "colab": {}
      },
      "source": [
        "df"
      ],
      "execution_count": null,
      "outputs": []
    },
    {
      "cell_type": "code",
      "metadata": {
        "id": "XzG6QlP6CoWg",
        "colab_type": "code",
        "colab": {}
      },
      "source": [
        "df['Carga'] = [40,30,20]"
      ],
      "execution_count": null,
      "outputs": []
    },
    {
      "cell_type": "code",
      "metadata": {
        "id": "fL83iLblDcDC",
        "colab_type": "code",
        "colab": {}
      },
      "source": [
        "df"
      ],
      "execution_count": null,
      "outputs": []
    },
    {
      "cell_type": "code",
      "metadata": {
        "id": "3gBG353uD6BT",
        "colab_type": "code",
        "colab": {}
      },
      "source": [
        "df.Professor"
      ],
      "execution_count": null,
      "outputs": []
    },
    {
      "cell_type": "code",
      "metadata": {
        "id": "9Ol009yzEBLa",
        "colab_type": "code",
        "colab": {}
      },
      "source": [
        "df['Carga']"
      ],
      "execution_count": null,
      "outputs": []
    },
    {
      "cell_type": "code",
      "metadata": {
        "id": "zMbL9tZ7ELZF",
        "colab_type": "code",
        "colab": {}
      },
      "source": [
        "df['Carga'][1]"
      ],
      "execution_count": null,
      "outputs": []
    },
    {
      "cell_type": "code",
      "metadata": {
        "id": "ZD3eJPXbEpDh",
        "colab_type": "code",
        "colab": {}
      },
      "source": [
        "df['Carga']['Visualização']"
      ],
      "execution_count": null,
      "outputs": []
    },
    {
      "cell_type": "code",
      "metadata": {
        "id": "OPjpPuacEy27",
        "colab_type": "code",
        "colab": {}
      },
      "source": [
        "df.Professor['Computação Quântica']"
      ],
      "execution_count": null,
      "outputs": []
    },
    {
      "cell_type": "code",
      "metadata": {
        "id": "cjTadUoCFBLO",
        "colab_type": "code",
        "colab": {}
      },
      "source": [
        "df.Epidemias"
      ],
      "execution_count": null,
      "outputs": []
    },
    {
      "cell_type": "code",
      "metadata": {
        "id": "FHkDySnjFF9N",
        "colab_type": "code",
        "colab": {}
      },
      "source": [
        "df.loc['Epidemias']"
      ],
      "execution_count": null,
      "outputs": []
    },
    {
      "cell_type": "code",
      "metadata": {
        "id": "opQwU5xvFJWA",
        "colab_type": "code",
        "colab": {}
      },
      "source": [
        "df.iloc[2]"
      ],
      "execution_count": null,
      "outputs": []
    },
    {
      "cell_type": "code",
      "metadata": {
        "id": "ghV1mcz9FaZv",
        "colab_type": "code",
        "colab": {}
      },
      "source": [
        "df[df['Carga']<40]"
      ],
      "execution_count": null,
      "outputs": []
    },
    {
      "cell_type": "code",
      "metadata": {
        "id": "bFCDlsVaFkCP",
        "colab_type": "code",
        "colab": {}
      },
      "source": [
        "df[df.Professor == 'Thadeu']"
      ],
      "execution_count": null,
      "outputs": []
    },
    {
      "cell_type": "code",
      "metadata": {
        "id": "ON7b6LMtGs1p",
        "colab_type": "code",
        "colab": {}
      },
      "source": [
        "df.loc[[\"Epidemias\",\"Visualização\"]]"
      ],
      "execution_count": null,
      "outputs": []
    },
    {
      "cell_type": "code",
      "metadata": {
        "id": "rrQ2Ky51Fx8i",
        "colab_type": "code",
        "colab": {}
      },
      "source": [
        "df.describe()"
      ],
      "execution_count": null,
      "outputs": []
    },
    {
      "cell_type": "markdown",
      "metadata": {
        "id": "pKv1y6mSF4UM",
        "colab_type": "text"
      },
      "source": [
        "[Questionário do Curso](https://docs.google.com/spreadsheets/d/1MTb0OE-HGbTAO_xihuf-vE02HEqzs1WTA1ze9ayMw3o/edit?usp=sharing)"
      ]
    },
    {
      "cell_type": "code",
      "metadata": {
        "id": "cA33JYOFOKTy",
        "colab_type": "code",
        "colab": {}
      },
      "source": [
        "from google.colab import drive\n",
        "drive.mount('/gdrive')\n",
        "%cd /gdrive"
      ],
      "execution_count": null,
      "outputs": []
    },
    {
      "cell_type": "code",
      "metadata": {
        "id": "Mq2kzShaOPZZ",
        "colab_type": "code",
        "colab": {}
      },
      "source": [
        "cd \"My Drive/Colab Notebooks\""
      ],
      "execution_count": null,
      "outputs": []
    },
    {
      "cell_type": "code",
      "metadata": {
        "id": "Yda0R7cvOa47",
        "colab_type": "code",
        "colab": {}
      },
      "source": [
        "!ls *csv"
      ],
      "execution_count": null,
      "outputs": []
    },
    {
      "cell_type": "code",
      "metadata": {
        "id": "AtkWEBTTnWB5",
        "colab_type": "code",
        "colab": {}
      },
      "source": [
        "!cat 'Minicurso de Visualização de Dados (respostas) - Respostas ao formulário 1.csv'\n"
      ],
      "execution_count": null,
      "outputs": []
    },
    {
      "cell_type": "code",
      "metadata": {
        "id": "dGAmseBvOdB9",
        "colab_type": "code",
        "colab": {}
      },
      "source": [
        "formulario = pd.read_csv('Minicurso de Visualização de Dados (respostas) - Respostas ao formulário 1.csv')"
      ],
      "execution_count": null,
      "outputs": []
    },
    {
      "cell_type": "code",
      "metadata": {
        "id": "GTBBzaSDOl9l",
        "colab_type": "code",
        "colab": {}
      },
      "source": [
        "formulario.head()"
      ],
      "execution_count": null,
      "outputs": []
    },
    {
      "cell_type": "code",
      "metadata": {
        "id": "nWRPAjowOpMC",
        "colab_type": "code",
        "colab": {}
      },
      "source": [
        "formulario.Status"
      ],
      "execution_count": null,
      "outputs": []
    },
    {
      "cell_type": "code",
      "metadata": {
        "id": "CU_Z7U2xPRLa",
        "colab_type": "code",
        "colab": {}
      },
      "source": [
        "categorias = formulario.Status.unique()\n",
        "categorias"
      ],
      "execution_count": null,
      "outputs": []
    },
    {
      "cell_type": "code",
      "metadata": {
        "id": "cxbjWEftPbX6",
        "colab_type": "code",
        "colab": {}
      },
      "source": [
        "frequencia = formulario.Status.value_counts(normalize=True)\n",
        "frequencia"
      ],
      "execution_count": null,
      "outputs": []
    },
    {
      "cell_type": "code",
      "metadata": {
        "id": "Cr32QjeGbdA9",
        "colab_type": "code",
        "colab": {}
      },
      "source": [
        "plt.hist(formulario.Status);"
      ],
      "execution_count": null,
      "outputs": []
    },
    {
      "cell_type": "code",
      "metadata": {
        "id": "ooQUUIJocQzR",
        "colab_type": "code",
        "colab": {}
      },
      "source": [
        "formulario['Status'].hist(xrot=45);"
      ],
      "execution_count": null,
      "outputs": []
    },
    {
      "cell_type": "code",
      "metadata": {
        "id": "4ll4BPa8SdOD",
        "colab_type": "code",
        "colab": {}
      },
      "source": [
        "categorias"
      ],
      "execution_count": null,
      "outputs": []
    },
    {
      "cell_type": "code",
      "metadata": {
        "id": "9ZU6K-DbSe0Q",
        "colab_type": "code",
        "colab": {}
      },
      "source": [
        "frequencia"
      ],
      "execution_count": null,
      "outputs": []
    },
    {
      "cell_type": "code",
      "metadata": {
        "id": "taMCyry4RS3O",
        "colab_type": "code",
        "colab": {}
      },
      "source": [
        "frequencia_categoria = [ frequencia[x] for x in categorias ]\n",
        "list(zip(categorias,frequencia_categoria))"
      ],
      "execution_count": null,
      "outputs": []
    },
    {
      "cell_type": "code",
      "metadata": {
        "id": "N3R24cAMPt7e",
        "colab_type": "code",
        "colab": {}
      },
      "source": [
        "plt.bar(categorias,frequencia_categoria);"
      ],
      "execution_count": null,
      "outputs": []
    },
    {
      "cell_type": "code",
      "metadata": {
        "id": "6J8BWrWNP4W-",
        "colab_type": "code",
        "colab": {}
      },
      "source": [
        "plt.figure(figsize=(8,6))\n",
        "plt.xlabel('Posição',fontsize=18)\n",
        "plt.ylabel('Frequência', fontsize=18)\n",
        "plt.title('Minicurso de Visualização - Perfil dos Participantes', fontsize=22)\n",
        "plt.tick_params(axis='x', length=0, which='both')\n",
        "plt.bar(categorias,frequencia_categoria);"
      ],
      "execution_count": null,
      "outputs": []
    },
    {
      "cell_type": "code",
      "metadata": {
        "id": "w48td-YqTrfk",
        "colab_type": "code",
        "colab": {}
      },
      "source": [
        "plt.figure(figsize=(8,8))\n",
        "plt.pie(frequencia_categoria, labels=categorias, shadow=True);"
      ],
      "execution_count": null,
      "outputs": []
    },
    {
      "cell_type": "code",
      "metadata": {
        "id": "tMwVXKA2XjsW",
        "colab_type": "code",
        "colab": {}
      },
      "source": [
        "plt.figure(figsize=(8,8))\n",
        "explode = [0,0.05,0.1]\n",
        "plt.pie(frequencia_categoria, labels=categorias, shadow=True, explode=explode);"
      ],
      "execution_count": null,
      "outputs": []
    }
  ]
}